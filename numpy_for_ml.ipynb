{
  "nbformat": 4,
  "nbformat_minor": 0,
  "metadata": {
    "colab": {
      "provenance": [],
      "toc_visible": true,
      "authorship_tag": "ABX9TyOcHcf3pRTXVn6dgXlU/RBr",
      "include_colab_link": true
    },
    "kernelspec": {
      "name": "python3",
      "display_name": "Python 3"
    },
    "language_info": {
      "name": "python"
    }
  },
  "cells": [
    {
      "cell_type": "markdown",
      "metadata": {
        "id": "view-in-github",
        "colab_type": "text"
      },
      "source": [
        "<a href=\"https://colab.research.google.com/github/pranathi000/ML_libraries/blob/main/numpy_for_ml.ipynb\" target=\"_parent\"><img src=\"https://colab.research.google.com/assets/colab-badge.svg\" alt=\"Open In Colab\"/></a>"
      ]
    },
    {
      "cell_type": "markdown",
      "source": [
        "#NUMPY\n",
        "\n"
      ],
      "metadata": {
        "id": "uXswYUu2sPxD"
      }
    },
    {
      "cell_type": "markdown",
      "source": [
        "Numpy arrays have two more advantages over list and tuple.\n",
        "\n",
        "List and tuple are in-built data types in python. THey store more than one data type just like a collection of different values.\n",
        "\n",
        "- Numpy arrays are more advanced than lists and tuples.\n",
        "\n",
        "- They allows several mathmetical operations to perform.\n",
        "\n",
        "- The operations we do on numpy arrays are more faster when compared to lists."
      ],
      "metadata": {
        "id": "3exBNId1LSJL"
      }
    },
    {
      "cell_type": "code",
      "execution_count": 1,
      "metadata": {
        "id": "KlQirhJnKi1a"
      },
      "outputs": [],
      "source": [
        "import numpy as np\n",
        "# you can use any abbreviation instead of np.\n"
      ]
    },
    {
      "cell_type": "markdown",
      "source": [
        "### Why libraries are used in python?\n",
        "\n",
        "- Insted of writing 100s of lines of code each time, we store the lines of codes in libraries so that we can just call them by using functions.\n",
        "- numpy is also a library here"
      ],
      "metadata": {
        "id": "ih6MMdatMiF8"
      }
    },
    {
      "cell_type": "markdown",
      "source": [
        "### List Vs Nmpy"
      ],
      "metadata": {
        "id": "FzsBZKUsMsds"
      }
    },
    {
      "cell_type": "code",
      "source": [
        "import time\n",
        "from time import process_time"
      ],
      "metadata": {
        "id": "npkDetnDMOig"
      },
      "execution_count": 2,
      "outputs": []
    },
    {
      "cell_type": "markdown",
      "source": [
        "Time taken by a list"
      ],
      "metadata": {
        "id": "2MsHqHuAM2iu"
      }
    },
    {
      "cell_type": "code",
      "source": [
        "python_list = [i for i in range(10000)]\n",
        "# storing the values from 0 to 10000\n",
        "\n",
        "start_time = process_time()"
      ],
      "metadata": {
        "id": "c-Z25R0YMEr_"
      },
      "execution_count": 3,
      "outputs": []
    },
    {
      "cell_type": "code",
      "source": [
        "python_list = [i+5 for i in  python_list]\n",
        "# add 5 to all the values in this particular list\n",
        "end_time = process_time()\n",
        "# the amount of time required by this process\n",
        "print(end_time - start_time)"
      ],
      "metadata": {
        "colab": {
          "base_uri": "https://localhost:8080/"
        },
        "id": "Ies7x4UPNGxg",
        "outputId": "675f7e25-2981-4838-8471-10cf9ecd792e"
      },
      "execution_count": 4,
      "outputs": [
        {
          "output_type": "stream",
          "name": "stdout",
          "text": [
            "0.6388243080000002\n"
          ]
        }
      ]
    },
    {
      "cell_type": "code",
      "source": [
        "# Lets do the similar process with numpy array too\n",
        "# declare the numpy array\n",
        "np_array = np.array([i for i in range(10000)])\n",
        "\n",
        "start_time = process_time()\n",
        "\n",
        "np_array += 5\n",
        "\n",
        "# add 5 to all the values in this particular list\n",
        "end_time = process_time()\n",
        "print(end_time - start_time)\n"
      ],
      "metadata": {
        "colab": {
          "base_uri": "https://localhost:8080/"
        },
        "id": "lgJQGSHANkhI",
        "outputId": "d5ec0fa8-1d64-4ae9-ad8d-42d222f1fe90"
      },
      "execution_count": 6,
      "outputs": [
        {
          "output_type": "stream",
          "name": "stdout",
          "text": [
            "0.0016942310000001015\n"
          ]
        }
      ]
    },
    {
      "cell_type": "markdown",
      "source": [
        "You can see how fast the numpy array is, when comapred with list"
      ],
      "metadata": {
        "id": "sFfrWpH7ODf2"
      }
    },
    {
      "cell_type": "markdown",
      "source": [
        "Numpy arrays\n"
      ],
      "metadata": {
        "id": "j2h-nt6sOeXE"
      }
    },
    {
      "cell_type": "code",
      "source": [
        "list1 = [1,2,3,4,5]\n",
        "print(list1)\n",
        "print(type(list1))"
      ],
      "metadata": {
        "colab": {
          "base_uri": "https://localhost:8080/"
        },
        "id": "kWzbBmsyOAyT",
        "outputId": "2a3a2cc2-8ec9-406d-830a-387efec4b5cd"
      },
      "execution_count": 7,
      "outputs": [
        {
          "output_type": "stream",
          "name": "stdout",
          "text": [
            "[1, 2, 3, 4, 5]\n"
          ]
        }
      ]
    },
    {
      "cell_type": "code",
      "source": [
        "np_array = np.array([1,2,3,4,5])\n",
        "print(np_array)\n",
        "print(type(np_array))"
      ],
      "metadata": {
        "colab": {
          "base_uri": "https://localhost:8080/"
        },
        "id": "Hd1nQcalOsHl",
        "outputId": "eab8b978-3238-4f32-a8ba-028a66fad095"
      },
      "execution_count": 9,
      "outputs": [
        {
          "output_type": "stream",
          "name": "stdout",
          "text": [
            "[1 2 3 4 5]\n",
            "<class 'numpy.ndarray'>\n"
          ]
        }
      ]
    },
    {
      "cell_type": "markdown",
      "source": [
        "- Take a look! There are no commas betweent the elements in numpy\n",
        "- nd represents n dimensional array\n"
      ],
      "metadata": {
        "id": "X73nKYIYPFJx"
      }
    },
    {
      "cell_type": "code",
      "source": [
        " # Create a 1D array\n",
        "a = np.array([1,2,3,4])\n",
        "print(a)\n"
      ],
      "metadata": {
        "colab": {
          "base_uri": "https://localhost:8080/"
        },
        "id": "lc85q6xkOufc",
        "outputId": "30cc6c57-feb8-4062-a1c5-5ea9b12402e9"
      },
      "execution_count": 10,
      "outputs": [
        {
          "output_type": "stream",
          "name": "stdout",
          "text": [
            "[1 2 3 4]\n"
          ]
        }
      ]
    },
    {
      "cell_type": "code",
      "source": [
        "#  it gives the information of num of rows and cols in a numpy array\n",
        "a.shape\n",
        "# 4 in the output represents that there are 4 columns here"
      ],
      "metadata": {
        "colab": {
          "base_uri": "https://localhost:8080/"
        },
        "id": "--ATtmw2PfR-",
        "outputId": "71137f8f-839e-454a-acfb-e4faf5a07e5a"
      },
      "execution_count": 12,
      "outputs": [
        {
          "output_type": "execute_result",
          "data": {
            "text/plain": [
              "(4,)"
            ]
          },
          "metadata": {},
          "execution_count": 12
        }
      ]
    },
    {
      "cell_type": "code",
      "source": [
        "# 2D array\n",
        "b= np.array([(1,2,3,4),(5,6,7,8)])\n",
        "print(b)"
      ],
      "metadata": {
        "colab": {
          "base_uri": "https://localhost:8080/"
        },
        "id": "ZRmpYUMBPqiA",
        "outputId": "eb64857b-5c28-41c7-e315-4acfde7f0252"
      },
      "execution_count": 14,
      "outputs": [
        {
          "output_type": "stream",
          "name": "stdout",
          "text": [
            "[[1 2 3 4]\n",
            " [5 6 7 8]]\n"
          ]
        }
      ]
    },
    {
      "cell_type": "code",
      "source": [
        "b.shape"
      ],
      "metadata": {
        "colab": {
          "base_uri": "https://localhost:8080/"
        },
        "id": "VxIzrQpZP9wC",
        "outputId": "9471224e-9a5f-4116-da4e-8ef84c71f441"
      },
      "execution_count": 15,
      "outputs": [
        {
          "output_type": "execute_result",
          "data": {
            "text/plain": [
              "(2, 4)"
            ]
          },
          "metadata": {},
          "execution_count": 15
        }
      ]
    },
    {
      "cell_type": "code",
      "source": [
        "c = np.array([(1,2,3,4),(5,6,7,8)],dtype=float)\n",
        "print(c)"
      ],
      "metadata": {
        "colab": {
          "base_uri": "https://localhost:8080/"
        },
        "id": "IhkNZBAJQCIF",
        "outputId": "1e0944e5-b19c-4f63-8953-231420d945d3"
      },
      "execution_count": 16,
      "outputs": [
        {
          "output_type": "stream",
          "name": "stdout",
          "text": [
            "[[1. 2. 3. 4.]\n",
            " [5. 6. 7. 8.]]\n"
          ]
        }
      ]
    },
    {
      "cell_type": "markdown",
      "source": [
        "If you dont mention any data type the default would be the int data type."
      ],
      "metadata": {
        "id": "l5NHKVzkQZYg"
      }
    },
    {
      "cell_type": "markdown",
      "source": [
        "### Initial palceholders in numpy arrays"
      ],
      "metadata": {
        "id": "l_iKRBWqQjjz"
      }
    },
    {
      "cell_type": "markdown",
      "source": [
        "In some cased we need to initialize an array with all the initial values 0 or may be 1 based on our implementation.\n",
        "\n"
      ],
      "metadata": {
        "id": "A0x5jH_tQpoS"
      }
    },
    {
      "cell_type": "code",
      "source": [
        "# create a numpy array of zeros\n",
        "x = np.zeros((4,5))\n",
        "print(x)"
      ],
      "metadata": {
        "colab": {
          "base_uri": "https://localhost:8080/"
        },
        "id": "3ug_-abpQUqj",
        "outputId": "e996abb6-63d7-437c-edfe-ea79eeb1b5b9"
      },
      "execution_count": 19,
      "outputs": [
        {
          "output_type": "stream",
          "name": "stdout",
          "text": [
            "[[0. 0. 0. 0. 0.]\n",
            " [0. 0. 0. 0. 0.]\n",
            " [0. 0. 0. 0. 0.]\n",
            " [0. 0. 0. 0. 0.]]\n"
          ]
        }
      ]
    },
    {
      "cell_type": "code",
      "source": [
        "# create a numpy array of one's\n",
        "y = np.ones((3,2))\n",
        "print(y)"
      ],
      "metadata": {
        "colab": {
          "base_uri": "https://localhost:8080/"
        },
        "id": "xiVOFaKoQ8c5",
        "outputId": "15694d91-050f-449d-ccf6-e13620ec9c5b"
      },
      "execution_count": 21,
      "outputs": [
        {
          "output_type": "stream",
          "name": "stdout",
          "text": [
            "[[1. 1.]\n",
            " [1. 1.]\n",
            " [1. 1.]]\n"
          ]
        }
      ]
    },
    {
      "cell_type": "code",
      "source": [
        "#how can we create an array of a particular value\n",
        "z = np.full((3,3),7)\n",
        "print(z)\n"
      ],
      "metadata": {
        "colab": {
          "base_uri": "https://localhost:8080/"
        },
        "id": "B0Lc5I5EROku",
        "outputId": "e11de1fb-1c20-4148-a139-d5a09e247678"
      },
      "execution_count": 22,
      "outputs": [
        {
          "output_type": "stream",
          "name": "stdout",
          "text": [
            "[[7 7 7]\n",
            " [7 7 7]\n",
            " [7 7 7]]\n"
          ]
        }
      ]
    },
    {
      "cell_type": "code",
      "source": [
        "# create an identity matrix\n",
        "# all the diagonal values are 1 and remaining elemens are zero\n",
        "a = np.eye(4)\n",
        "# 4 deterenines tht we want 4*4 matrix\n",
        "print(a)"
      ],
      "metadata": {
        "colab": {
          "base_uri": "https://localhost:8080/"
        },
        "id": "SiHVQnh7RgH0",
        "outputId": "e9c39429-7887-459a-dc9d-a9c4ee169997"
      },
      "execution_count": 24,
      "outputs": [
        {
          "output_type": "stream",
          "name": "stdout",
          "text": [
            "[[1. 0. 0. 0.]\n",
            " [0. 1. 0. 0.]\n",
            " [0. 0. 1. 0.]\n",
            " [0. 0. 0. 1.]]\n"
          ]
        }
      ]
    },
    {
      "cell_type": "code",
      "source": [
        "# crate anumpy array with random values\n",
        "np.random.random((4,3))\n",
        "# all the values are between 0 and 1\n"
      ],
      "metadata": {
        "colab": {
          "base_uri": "https://localhost:8080/"
        },
        "id": "1tsKArYARyZF",
        "outputId": "6610826b-9424-4770-a525-719f308e1e52"
      },
      "execution_count": 26,
      "outputs": [
        {
          "output_type": "execute_result",
          "data": {
            "text/plain": [
              "array([[0.27982251, 0.63855505, 0.67648876],\n",
              "       [0.11296226, 0.50836553, 0.1720126 ],\n",
              "       [0.60066015, 0.8599721 , 0.83333037],\n",
              "       [0.00389591, 0.92847094, 0.10587581]])"
            ]
          },
          "metadata": {},
          "execution_count": 26
        }
      ]
    },
    {
      "cell_type": "code",
      "source": [
        "# random integer values array within a specific range\n",
        "np.random.randint(1,100,(3,5))\n",
        "\n"
      ],
      "metadata": {
        "colab": {
          "base_uri": "https://localhost:8080/"
        },
        "id": "-CY7dApXSHVJ",
        "outputId": "37a17486-7588-452e-d7da-d99c2e5af5c4"
      },
      "execution_count": 27,
      "outputs": [
        {
          "output_type": "execute_result",
          "data": {
            "text/plain": [
              "array([[88, 94, 61, 79, 96],\n",
              "       [62, 30, 90,  4, 27],\n",
              "       [20, 99, 72,  5, 25]])"
            ]
          },
          "metadata": {},
          "execution_count": 27
        }
      ]
    },
    {
      "cell_type": "code",
      "source": [
        "# array of evenly spaced values\n",
        "# here we are specifying the number of values we require\n",
        "np.linspace(10,30,5)"
      ],
      "metadata": {
        "colab": {
          "base_uri": "https://localhost:8080/"
        },
        "id": "5auvx9BkSnZP",
        "outputId": "10c5a220-fccc-4d47-f042-b6ba26170e70"
      },
      "execution_count": 29,
      "outputs": [
        {
          "output_type": "execute_result",
          "data": {
            "text/plain": [
              "array([10., 15., 20., 25., 30.])"
            ]
          },
          "metadata": {},
          "execution_count": 29
        }
      ]
    },
    {
      "cell_type": "code",
      "source": [
        "# in here, we can declare the step number\n",
        "# array of evenly spaced values\n",
        "e = np.arange(10,31,5)\n",
        "f = np.arange(10,30,5)\n",
        "print(e,f)"
      ],
      "metadata": {
        "colab": {
          "base_uri": "https://localhost:8080/"
        },
        "id": "KLLrGz5WS00I",
        "outputId": "dd9d58e7-b6a8-49d0-845e-67c85e1f5468"
      },
      "execution_count": 33,
      "outputs": [
        {
          "output_type": "stream",
          "name": "stdout",
          "text": [
            "[10 15 20 25 30] [10 15 20 25]\n"
          ]
        }
      ]
    },
    {
      "cell_type": "code",
      "source": [
        "# converting a list to a numpy array\n",
        "list2  = [1,2,3,4,5,6,7,8,9]\n",
        "np_array = np.asarray(list2)\n",
        "print(np_array)\n",
        "type(np_array)"
      ],
      "metadata": {
        "colab": {
          "base_uri": "https://localhost:8080/"
        },
        "id": "_Ck4pDmgTTNL",
        "outputId": "2f42c9c2-d09d-404c-fd7a-dccc23185f44"
      },
      "execution_count": 35,
      "outputs": [
        {
          "output_type": "stream",
          "name": "stdout",
          "text": [
            "[1 2 3 4 5 6 7 8 9]\n"
          ]
        },
        {
          "output_type": "execute_result",
          "data": {
            "text/plain": [
              "numpy.ndarray"
            ]
          },
          "metadata": {},
          "execution_count": 35
        }
      ]
    },
    {
      "cell_type": "code",
      "source": [
        "# Analyzing a numpy array\n",
        "c=np.random.randint(10,90,(5,5))\n",
        "print(c)"
      ],
      "metadata": {
        "colab": {
          "base_uri": "https://localhost:8080/"
        },
        "id": "hAT25NzObBVY",
        "outputId": "50e94053-6b82-44ae-9d4d-a7076cae1052"
      },
      "execution_count": 36,
      "outputs": [
        {
          "output_type": "stream",
          "name": "stdout",
          "text": [
            "[[68 71 68 33 66]\n",
            " [63 73 88 14 60]\n",
            " [34 56 80 50 43]\n",
            " [84 34 89 49 84]\n",
            " [81 35 87 63 88]]\n"
          ]
        }
      ]
    },
    {
      "cell_type": "code",
      "source": [
        "# array dimension\n",
        "print(c.shape)\n",
        "print(c.ndim)\n",
        "#since its a 2D array, it given an output 2"
      ],
      "metadata": {
        "colab": {
          "base_uri": "https://localhost:8080/"
        },
        "id": "qxeG5jE1T3s5",
        "outputId": "edbb6255-7d11-456b-b635-90139a93ac8a"
      },
      "execution_count": 39,
      "outputs": [
        {
          "output_type": "stream",
          "name": "stdout",
          "text": [
            "(5, 5)\n",
            "2\n"
          ]
        }
      ]
    },
    {
      "cell_type": "code",
      "source": [
        "#checking the number of elements present in the array\n",
        "print(c.size)\n"
      ],
      "metadata": {
        "colab": {
          "base_uri": "https://localhost:8080/"
        },
        "id": "A0hIPOPfbTCO",
        "outputId": "52fac9ca-b64b-461d-c5f5-de3ac7aac5a0"
      },
      "execution_count": 40,
      "outputs": [
        {
          "output_type": "stream",
          "name": "stdout",
          "text": [
            "25\n"
          ]
        }
      ]
    },
    {
      "cell_type": "code",
      "source": [
        "#checking the data type of the values in the array\n",
        "print(c.dtype)\n",
        "# since we initiated the random integer values, the output gives integer type"
      ],
      "metadata": {
        "colab": {
          "base_uri": "https://localhost:8080/"
        },
        "id": "2OoEHsoPnKe6",
        "outputId": "ea3a5a92-afc2-4994-d636-1439ee4b8a00"
      },
      "execution_count": 41,
      "outputs": [
        {
          "output_type": "stream",
          "name": "stdout",
          "text": [
            "int64\n"
          ]
        }
      ]
    },
    {
      "cell_type": "code",
      "source": [
        "# mathematical operations that can be performed on a numpy array\n",
        "list1=[1,2,3,4,5]\n",
        "list2=[6,7,8,9,10]\n",
        "print(list1+list2)\n",
        "# i we add two lists, the element wise addition is not happening , instead the cocatenation of 2 lists is getting done.\n"
      ],
      "metadata": {
        "colab": {
          "base_uri": "https://localhost:8080/"
        },
        "id": "drR19p_ynSNq",
        "outputId": "2b1ceb9f-31c8-4935-b273-e88fa76ab75e"
      },
      "execution_count": 42,
      "outputs": [
        {
          "output_type": "stream",
          "name": "stdout",
          "text": [
            "[1, 2, 3, 4, 5, 6, 7, 8, 9, 10]\n"
          ]
        }
      ]
    },
    {
      "cell_type": "code",
      "source": [
        "i = 0\n",
        "for i in range(len(list1)):\n",
        "  print(list1[i]+list2[i])\n"
      ],
      "metadata": {
        "colab": {
          "base_uri": "https://localhost:8080/"
        },
        "id": "cBgFPDyfnqtM",
        "outputId": "ddada621-2640-4527-8730-6cef3220679b"
      },
      "execution_count": 43,
      "outputs": [
        {
          "output_type": "stream",
          "name": "stdout",
          "text": [
            "7\n",
            "9\n",
            "11\n",
            "13\n",
            "15\n"
          ]
        }
      ]
    },
    {
      "cell_type": "code",
      "source": [
        "a = np.random.randint(0,10,(3,3))\n",
        "b = np.random.randint(10,20,(3,3))\n",
        "print(a)\n",
        "print(b)"
      ],
      "metadata": {
        "colab": {
          "base_uri": "https://localhost:8080/"
        },
        "id": "6-B8NLdCoC7b",
        "outputId": "65566516-85be-41ad-caaa-2e288281d58a"
      },
      "execution_count": 44,
      "outputs": [
        {
          "output_type": "stream",
          "name": "stdout",
          "text": [
            "[[8 6 5]\n",
            " [1 4 9]\n",
            " [3 2 5]]\n",
            "[[11 17 19]\n",
            " [13 10 15]\n",
            " [15 14 13]]\n"
          ]
        }
      ]
    },
    {
      "cell_type": "code",
      "source": [
        "print(a+b)\n",
        "print(a-b)\n",
        "print(a*b)\n",
        "print(a/b)\n"
      ],
      "metadata": {
        "colab": {
          "base_uri": "https://localhost:8080/"
        },
        "id": "OX5XkETNoWBf",
        "outputId": "66f8f723-3aab-4560-ff63-638a2ca2ed96"
      },
      "execution_count": 48,
      "outputs": [
        {
          "output_type": "stream",
          "name": "stdout",
          "text": [
            "[[19 23 24]\n",
            " [14 14 24]\n",
            " [18 16 18]]\n",
            "[[ -3 -11 -14]\n",
            " [-12  -6  -6]\n",
            " [-12 -12  -8]]\n",
            "[[ 88 102  95]\n",
            " [ 13  40 135]\n",
            " [ 45  28  65]]\n",
            "[[0.72727273 0.35294118 0.26315789]\n",
            " [0.07692308 0.4        0.6       ]\n",
            " [0.2        0.14285714 0.38461538]]\n"
          ]
        }
      ]
    },
    {
      "cell_type": "markdown",
      "source": [
        "- From the above 4 code slides, i just wanna tell you that if we add 2 lists using a + operater it will concatenate the 2 lists instead of performing element wise addition.\n",
        "\n",
        "- but in the case of numpy array, if we add 2 numpy arrays, element wise addition happens."
      ],
      "metadata": {
        "id": "_o9mp6Z9oe18"
      }
    },
    {
      "cell_type": "code",
      "source": [
        "a = np.random.randint(0,10,(3,3))\n",
        "b = np.random.randint(10,20,(3,3))\n",
        "print(np.add(a,b))"
      ],
      "metadata": {
        "colab": {
          "base_uri": "https://localhost:8080/"
        },
        "id": "iYo-cxgEobhn",
        "outputId": "a5376f86-adb3-4f4e-c0f0-87a8a84c7b28"
      },
      "execution_count": 49,
      "outputs": [
        {
          "output_type": "stream",
          "name": "stdout",
          "text": [
            "[[14 14 24]\n",
            " [25 13 23]\n",
            " [15 19 16]]\n"
          ]
        }
      ]
    },
    {
      "cell_type": "code",
      "source": [
        "d = np.random.randint(10,20,(2,3))\n",
        "print(d)\n",
        "trans_d = np.transpose(d)\n",
        "print(trans_d)"
      ],
      "metadata": {
        "colab": {
          "base_uri": "https://localhost:8080/"
        },
        "id": "vGBUeZSSqA0N",
        "outputId": "f1d55025-c0bd-4474-d979-6d0913bed610"
      },
      "execution_count": 51,
      "outputs": [
        {
          "output_type": "stream",
          "name": "stdout",
          "text": [
            "[[19 12 12]\n",
            " [15 17 16]]\n",
            "[[19 15]\n",
            " [12 17]\n",
            " [12 16]]\n"
          ]
        }
      ]
    },
    {
      "cell_type": "code",
      "source": [
        "trans2 = d.T\n",
        "print(trans2)\n",
        "print(trans2.shape)"
      ],
      "metadata": {
        "colab": {
          "base_uri": "https://localhost:8080/"
        },
        "id": "VznjsUmlrZcM",
        "outputId": "61467c39-c29b-4e97-bd7b-b2a529ad522a"
      },
      "execution_count": 52,
      "outputs": [
        {
          "output_type": "stream",
          "name": "stdout",
          "text": [
            "[[19 15]\n",
            " [12 17]\n",
            " [12 16]]\n",
            "(3, 2)\n"
          ]
        }
      ]
    },
    {
      "cell_type": "code",
      "source": [
        "# reshpaing an array\n",
        "a = np.random.randint(0,10,(2,3))\n",
        "print(a)\n",
        "print(a.shape)"
      ],
      "metadata": {
        "colab": {
          "base_uri": "https://localhost:8080/"
        },
        "id": "oSyr6igvrvpL",
        "outputId": "4ce725df-aa5b-46bd-cfed-21688030c02c"
      },
      "execution_count": 53,
      "outputs": [
        {
          "output_type": "stream",
          "name": "stdout",
          "text": [
            "[[0 1 8]\n",
            " [8 9 4]]\n",
            "(2, 3)\n"
          ]
        }
      ]
    },
    {
      "cell_type": "code",
      "source": [
        "b = a.reshape(3,2)\n",
        "print(b)\n",
        "print(b.shape)"
      ],
      "metadata": {
        "colab": {
          "base_uri": "https://localhost:8080/"
        },
        "id": "qEdSWD2Ar7G9",
        "outputId": "97672b8c-310d-4c30-fbad-6380e79dec93"
      },
      "execution_count": 58,
      "outputs": [
        {
          "output_type": "stream",
          "name": "stdout",
          "text": [
            "[[0 1]\n",
            " [8 8]\n",
            " [9 4]]\n",
            "(3, 2)\n"
          ]
        }
      ]
    },
    {
      "cell_type": "code",
      "source": [],
      "metadata": {
        "id": "usSIcoP2sBGs"
      },
      "execution_count": null,
      "outputs": []
    }
  ]
}