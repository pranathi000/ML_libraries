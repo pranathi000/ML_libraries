{
  "nbformat": 4,
  "nbformat_minor": 0,
  "metadata": {
    "colab": {
      "provenance": []
    },
    "kernelspec": {
      "name": "python3",
      "display_name": "Python 3"
    },
    "language_info": {
      "name": "python"
    }
  },
  "cells": [
    {
      "cell_type": "markdown",
      "source": [
        "# What is Numpy? A glance"
      ],
      "metadata": {
        "id": "J_gsT9lAI8FX"
      }
    },
    {
      "cell_type": "markdown",
      "source": [
        "\n",
        "\n",
        "So, NumPy is basically this amazing library in Python that makes handling numbers and data super easy. It's like a super-powered version of Python's built-in lists, but designed for math and data manipulation. You can think of it as the go-to tool for anyone working with numbers or doing machine learning stuff.\n",
        "\n",
        "* Why should we use NumPy in ML?\n",
        "Speed: NumPy is super fast compared to regular Python lists because it's optimized for numerical calculations.\n",
        "\n",
        "* Arrays: It lets you work with arrays (basically tables or grids of data). And arrays are way faster than lists when you're working with large datasets. In machine learning, data is usually in the form of arrays!\n",
        "\n",
        "* Math Stuff: NumPy has tons of built-in functions to do all sorts of math. Whether you’re adding arrays, multiplying them, or doing fancy matrix operations, NumPy’s got your back. And trust me, ML loves math!\n",
        "\n",
        "* Works Great with Other Libraries: NumPy is like the best friend of libraries like Pandas, Scikit-learn, and TensorFlow. So if you’re diving into ML, NumPy will definitely be in the picture.\n",
        "\n",
        "### Why is Google Colab Better for Learning?\n",
        "So, YouTube videos are great and all, but they’re mostly about watching and listening, right? But when you’re coding, it’s all about doing.\n",
        "\n",
        "* Instant Feedback: You type some code, hit \"Run,\" and boom, you see the result. If it doesn’t work, you can fix it on the spot. No waiting around.\n",
        "\n",
        "* No Setup: You don’t have to deal with installing stuff on your computer. It’s all set up in the cloud. Just go to Colab and start coding.\n",
        "\n",
        "* Hands-On Practice: Colab is like a coding playground. You can try out examples and experiment with code. It’s like learning to ride a bike—you gotta try it yourself, not just watch someone else.\n",
        "\n",
        "* Visual Learning: With Colab, you can create plots and graphs using libraries like Matplotlib, so you can actually see how things are changing when you mess with arrays and numbers. It helps everything click."
      ],
      "metadata": {
        "id": "rY-k3uM_HHqk"
      }
    },
    {
      "cell_type": "markdown",
      "source": [
        "\n",
        "# Learning NUMPY"
      ],
      "metadata": {
        "id": "fNXC5iJg2dQw"
      }
    },
    {
      "cell_type": "code",
      "execution_count": 1,
      "metadata": {
        "colab": {
          "base_uri": "https://localhost:8080/"
        },
        "id": "D63-iMOo2YL8",
        "outputId": "04c72fbf-fdec-4035-c168-5ee0c0da8a60"
      },
      "outputs": [
        {
          "output_type": "stream",
          "name": "stdout",
          "text": [
            "1.26.4\n"
          ]
        }
      ],
      "source": [
        "import numpy as np\n",
        "print(np.__version__)"
      ]
    },
    {
      "cell_type": "markdown",
      "source": [
        "*Lets start with the concept of arrays! Create our first numpy array.\n",
        "observe that we have used () and inside the braces we created an arrat with [  ] where elements are inside the square braces. I hope your are a bit familiar with python since u have up here to learn numpy!*\n",
        "\n",
        "\n",
        "\n"
      ],
      "metadata": {
        "id": "IzQU0SQI2-sa"
      }
    },
    {
      "cell_type": "code",
      "source": [
        "arr = np.array([1,2,3,4,5])\n",
        "print(\"Our Array: \",arr)\n",
        "print(\"type of array thar we have created: \",type(arr))"
      ],
      "metadata": {
        "colab": {
          "base_uri": "https://localhost:8080/"
        },
        "id": "P6TW-UJS29yJ",
        "outputId": "61427c79-8316-4f9a-eb77-f8a94348a20a"
      },
      "execution_count": 2,
      "outputs": [
        {
          "output_type": "stream",
          "name": "stdout",
          "text": [
            "Our Array:  [1 2 3 4 5]\n",
            "type of array thar we have created:  <class 'numpy.ndarray'>\n"
          ]
        }
      ]
    },
    {
      "cell_type": "code",
      "source": [
        "# 1D array\n",
        "arr_1d = np.array([10, 20, 30])\n",
        "\n",
        "# 2D array (matrix)\n",
        "arr_2d = np.array([[1, 2], [3, 4]])\n",
        "\n",
        "# 3D array\n",
        "arr_3d = np.array([[[1, 2], [3, 4]], [[5, 6], [7, 8]]])\n",
        "\n",
        "print(\"1D Array:\", arr_1d)\n",
        "print(\"2D Array:\\n\", arr_2d)\n",
        "print(\"3D Array:\\n\", arr_3d)\n"
      ],
      "metadata": {
        "colab": {
          "base_uri": "https://localhost:8080/"
        },
        "id": "_eVam7zE2cSn",
        "outputId": "73a7e922-1c4a-4d12-853b-698b0d6cc0ac"
      },
      "execution_count": 5,
      "outputs": [
        {
          "output_type": "stream",
          "name": "stdout",
          "text": [
            "1D Array: [10 20 30]\n",
            "2D Array:\n",
            " [[1 2]\n",
            " [3 4]]\n",
            "3D Array:\n",
            " [[[1 2]\n",
            "  [3 4]]\n",
            "\n",
            " [[5 6]\n",
            "  [7 8]]]\n"
          ]
        }
      ]
    },
    {
      "cell_type": "markdown",
      "source": [
        "(1,2,2,2) determines that there is one block and there are 2 sublocks inside a block. Each group has 2 rows and each row has 2 elements.\n",
        "Batch 1 (1 group):\n",
        "  Sub-group 1:\n",
        "\n",
        "    Row 1: [a, b]\n",
        "    Row 2: [c, d]\n",
        "\n",
        "  Sub-group 2:\n",
        "  \n",
        "    Row 1: [e, f]\n",
        "    Row 2: [g, h]\n"
      ],
      "metadata": {
        "id": "JmfrYYS55xcT"
      }
    },
    {
      "cell_type": "code",
      "source": [
        "print(arr_2d.shape)\n",
        "print(arr_3d.shape)"
      ],
      "metadata": {
        "colab": {
          "base_uri": "https://localhost:8080/"
        },
        "id": "uUP6vj5l2cQe",
        "outputId": "d689f4a9-1801-4251-8edb-e6e6bc1512c4"
      },
      "execution_count": 12,
      "outputs": [
        {
          "output_type": "stream",
          "name": "stdout",
          "text": [
            "(2, 2)\n",
            "(1, 2, 2, 2)\n"
          ]
        }
      ]
    },
    {
      "cell_type": "code",
      "source": [
        "print(arr_2d.size)\n",
        "print(arr_3d.size)"
      ],
      "metadata": {
        "colab": {
          "base_uri": "https://localhost:8080/"
        },
        "id": "1rlfB9dq2cOM",
        "outputId": "f8b1a8b2-40bb-491f-ef3d-39a8c815d8a1"
      },
      "execution_count": 13,
      "outputs": [
        {
          "output_type": "stream",
          "name": "stdout",
          "text": [
            "4\n",
            "8\n"
          ]
        }
      ]
    },
    {
      "cell_type": "markdown",
      "source": [
        "If you want to find a particular element in the array, you can use slicing. Remembrer thar arrays are 0 indexed!"
      ],
      "metadata": {
        "id": "iNKdHncB6cGq"
      }
    },
    {
      "cell_type": "code",
      "source": [
        "print(\"element at index 1 is : \",arr[1])"
      ],
      "metadata": {
        "colab": {
          "base_uri": "https://localhost:8080/"
        },
        "id": "HrPhcRf87WWY",
        "outputId": "0f41457c-9282-4f13-c0df-e588cf6ddc02"
      },
      "execution_count": 17,
      "outputs": [
        {
          "output_type": "stream",
          "name": "stdout",
          "text": [
            "element at index 1 is :  2\n"
          ]
        }
      ]
    },
    {
      "cell_type": "markdown",
      "source": [
        "you can also use user input method in orer find the element by entering its position. However, it leaves an error if you give an index which is out of bound"
      ],
      "metadata": {
        "id": "SGUwfVX67eec"
      }
    },
    {
      "cell_type": "code",
      "source": [
        "# n= int(input(\"enter a number : \"))\n",
        "# print(\"element ar index\",n, \"is\", arr[n])"
      ],
      "metadata": {
        "id": "5EIu5sso2cLT"
      },
      "execution_count": 18,
      "outputs": []
    },
    {
      "cell_type": "markdown",
      "source": [
        "## How to solve the error if you give the Index more than size of an array?\n",
        "Here comes the try and except block to handle the errors from happening"
      ],
      "metadata": {
        "id": "PkSKmegz7wKo"
      }
    },
    {
      "cell_type": "code",
      "source": [
        "n= int(input(\"enter a number : \"))\n",
        "try:\n",
        "    print(\"Element at index\", n, \"is\", arr[n])\n",
        "except:\n",
        "      print(f\"Error: Index {n} is out of bounds. The array has indices from 0 to {len(arr) - 1}.\")\n"
      ],
      "metadata": {
        "colab": {
          "base_uri": "https://localhost:8080/"
        },
        "id": "UMgdyoLM2cJD",
        "outputId": "d8f23f08-3c4b-47e6-bb17-f217400235c2"
      },
      "execution_count": 20,
      "outputs": [
        {
          "output_type": "stream",
          "name": "stdout",
          "text": [
            "enter a number : 15\n",
            "Error: Index 15 is out of bounds. The array has indices from 0 to 4.\n"
          ]
        }
      ]
    },
    {
      "cell_type": "markdown",
      "source": [
        "*You can also use if else statements to handle them.\n",
        "\n",
        "I think its normal to imagine that the elements with in the range of array\n",
        "\n",
        "0 <= n < len(arr) gives us the output eles throws an error*\n",
        "\n"
      ],
      "metadata": {
        "id": "CPPwZLTD8cbf"
      }
    },
    {
      "cell_type": "code",
      "source": [
        "arr = np.array([10, 20, 30, 40])\n",
        "\n",
        "n = int(input(\"Enter a number: \"))\n",
        "\n",
        "# Check if the index is valid\n",
        "if 0 <= n < len(arr):\n",
        "    print(\"Element at index\", n, \"is\", arr[n])\n",
        "else:\n",
        "    print(f\"Invalid index {n}. Please enter a number between 0 and {len(arr) - 1}.\")\n"
      ],
      "metadata": {
        "id": "mdcA_ltC2cGi"
      },
      "execution_count": null,
      "outputs": []
    },
    {
      "cell_type": "markdown",
      "source": [
        "you can use the concept of slicing if required"
      ],
      "metadata": {
        "id": "RnnWB8Z59oSc"
      }
    },
    {
      "cell_type": "code",
      "source": [
        "# Slicing\n",
        "print(\"Slice [1:4]:\", arr[1:4])"
      ],
      "metadata": {
        "colab": {
          "base_uri": "https://localhost:8080/"
        },
        "id": "KgRInabN2cEA",
        "outputId": "11b635d8-cfbd-4e98-9aba-ec363505cb5e"
      },
      "execution_count": 21,
      "outputs": [
        {
          "output_type": "stream",
          "name": "stdout",
          "text": [
            "Slice [1:4]: [2 3 4]\n"
          ]
        }
      ]
    },
    {
      "cell_type": "markdown",
      "source": [
        "If you want to reshape or convert an array from 1D to 2D or constrict the number of rows ro a particualr value, u can do it with the help of .reshape(   )"
      ],
      "metadata": {
        "id": "RhPGW4Ja-Jl_"
      }
    },
    {
      "cell_type": "code",
      "source": [
        "\n",
        "arr1 = np.array([1, 2, 3, 4, 5, 6])\n",
        "new_arr = arr1.reshape(2, 3)  # Reshape to 2 rows, 3 columns\n",
        "\n",
        "print(new_arr)"
      ],
      "metadata": {
        "colab": {
          "base_uri": "https://localhost:8080/"
        },
        "id": "gIuTRl8-2cBl",
        "outputId": "d0b1c937-81d0-4fcb-ebbd-087d9e9d82db"
      },
      "execution_count": 27,
      "outputs": [
        {
          "output_type": "stream",
          "name": "stdout",
          "text": [
            "[[1 2 3]\n",
            " [4 5 6]]\n"
          ]
        }
      ]
    },
    {
      "cell_type": "markdown",
      "source": [
        "Some slicing examples are given below"
      ],
      "metadata": {
        "id": "t1bTjdRR-noY"
      }
    },
    {
      "cell_type": "code",
      "source": [
        "# lets consider an array of 10 elements\n",
        "arr2 = [0,1,2,3,4,5,6,7,8,9]\n",
        "print(\"elements from the position 2 to 5: \\n\",arr2[2:5]) #  [2, 3, 4] we asked upto 5th position , but remember that it gives a position 1 less the position we give\n",
        "# Slice with step size\n",
        "print(arr2[2::7])\n",
        "\n",
        "print(arr2[::2])\n",
        "\n",
        "# Reverse the array\n",
        "print(arr2[::-1])"
      ],
      "metadata": {
        "colab": {
          "base_uri": "https://localhost:8080/"
        },
        "id": "PGbsmkkL2b-x",
        "outputId": "c5398e21-ecc3-49d6-ce65-69f2efb1d0c5"
      },
      "execution_count": 36,
      "outputs": [
        {
          "output_type": "stream",
          "name": "stdout",
          "text": [
            "elements from the position 2 to 5: \n",
            " [2, 3, 4]\n",
            "[2, 9]\n",
            "[0, 2, 4, 6, 8]\n",
            "[9, 8, 7, 6, 5, 4, 3, 2, 1, 0]\n"
          ]
        }
      ]
    },
    {
      "cell_type": "code",
      "source": [],
      "metadata": {
        "id": "VRnmiRjDAUn1"
      },
      "execution_count": null,
      "outputs": []
    },
    {
      "cell_type": "markdown",
      "source": [
        "\n",
        "## How slicing is used in ML?\n",
        "Machine learning models need data to be split into training and testing sets.\n",
        "\n",
        "*   Slicing helps separate data efficiently.\n",
        "*   In datasets with many features, slicing can extract specific columns for analysis or training.\n",
        "*   Slicing is used to crop or focus on specific parts of an image when performing data augmentation.\n",
        "*   While debugging, you might only need a subset of the dataset to analyze specific patterns."
      ],
      "metadata": {
        "id": "thjf2cp-AShe"
      }
    },
    {
      "cell_type": "markdown",
      "source": [
        "\n",
        "If you don’t know the length of the array in advance, you can start with an empty array (or list) and dynamically append values. Once you're done, convert it to a NumPy array."
      ],
      "metadata": {
        "id": "xy8lM2bsBUC3"
      }
    },
    {
      "cell_type": "code",
      "source": [
        "\n",
        "# Start with a Python list\n",
        "temp_list = []\n",
        "\n",
        "# Dynamically add elements\n",
        "for i in range(5):  # Example loop, change as needed\n",
        "    value = i * 10  # Generate some value\n",
        "    temp_list.append(value)\n",
        "\n",
        "# Convert the list to a NumPy array\n",
        "dynamic_array = np.array(temp_list)\n",
        "\n",
        "print(\"Dynamic Array:\", dynamic_array)\n"
      ],
      "metadata": {
        "colab": {
          "base_uri": "https://localhost:8080/"
        },
        "id": "qbt_qkBj2b8O",
        "outputId": "6d703cf5-7139-4c60-ae6d-5799bbea1d2a"
      },
      "execution_count": 37,
      "outputs": [
        {
          "output_type": "stream",
          "name": "stdout",
          "text": [
            "Dynamic Array: [ 0 10 20 30 40]\n"
          ]
        }
      ]
    },
    {
      "cell_type": "markdown",
      "source": [
        "Predefining Size with Zeros or Placeholders\n",
        "When you have an idea about the maximum size (even roughly), you can predefine it for efficiency:"
      ],
      "metadata": {
        "id": "I88w_h-HBubj"
      }
    },
    {
      "cell_type": "code",
      "source": [
        "# Predefine an array with zeros\n",
        "predefined_array = np.zeros(10)  # Max size of 10\n",
        "\n",
        "# Fill it dynamically\n",
        "for i in range(5):  # Use only first 5 spots\n",
        "    predefined_array[i] = i + 1\n",
        "\n",
        "# Slice to keep only the filled part\n",
        "final_array = predefined_array[:10]\n",
        "print(\"Efficient Array:\", final_array)\n"
      ],
      "metadata": {
        "colab": {
          "base_uri": "https://localhost:8080/"
        },
        "id": "piP3_d_tBt1p",
        "outputId": "f4459692-7a01-4de4-875d-c92ed0318483"
      },
      "execution_count": 39,
      "outputs": [
        {
          "output_type": "stream",
          "name": "stdout",
          "text": [
            "Efficient Array: [1. 2. 3. 4. 5. 0. 0. 0. 0. 0.]\n"
          ]
        }
      ]
    },
    {
      "cell_type": "code",
      "source": [
        "arr4 = np.array([1, 2, 3])\n",
        "\n",
        "filtered_array = arr4[arr4 > 1]"
      ],
      "metadata": {
        "id": "cIPjlTxPJHti"
      },
      "execution_count": null,
      "outputs": []
    },
    {
      "cell_type": "markdown",
      "source": [
        "# Array Functions"
      ],
      "metadata": {
        "id": "cTZyxmMlJLzK"
      }
    },
    {
      "cell_type": "markdown",
      "source": [
        "using np.append(   )"
      ],
      "metadata": {
        "id": "uU_vmn9UCA9C"
      }
    },
    {
      "cell_type": "code",
      "source": [
        "arr3 = np.array([1, 2, 3])\n",
        "new_arr = np.append(arr3, [4, 5])\n",
        "print(\"Extended Array:\", new_arr)\n"
      ],
      "metadata": {
        "colab": {
          "base_uri": "https://localhost:8080/"
        },
        "id": "frv3MWbQBty2",
        "outputId": "42d7e97f-aeaf-48f2-f3d6-760bae224c65"
      },
      "execution_count": 41,
      "outputs": [
        {
          "output_type": "stream",
          "name": "stdout",
          "text": [
            "Extended Array: [1 2 3 4 5]\n"
          ]
        }
      ]
    },
    {
      "cell_type": "markdown",
      "source": [
        "using np.concatenate(  )\n",
        "\n",
        "\n",
        "\n"
      ],
      "metadata": {
        "id": "rE0OiT4BCMct"
      }
    },
    {
      "cell_type": "code",
      "source": [
        "arr1 = np.array([1, 2, 3])\n",
        "arr2 = np.array([4, 5, 6])\n",
        "merged = np.concatenate((arr1, arr2))\n",
        "print(\"Merged Array:\", merged)\n"
      ],
      "metadata": {
        "colab": {
          "base_uri": "https://localhost:8080/"
        },
        "id": "vAnwMstiBtwd",
        "outputId": "8a7a3cbe-1aa3-426a-cc62-c0dd5f522d85"
      },
      "execution_count": 47,
      "outputs": [
        {
          "output_type": "stream",
          "name": "stdout",
          "text": [
            "Merged Array: [1 2 3 4 5 6]\n"
          ]
        }
      ]
    },
    {
      "cell_type": "markdown",
      "source": [
        "np.ones(  )"
      ],
      "metadata": {
        "id": "ci-e85T1JV69"
      }
    },
    {
      "cell_type": "code",
      "source": [
        "arr5 = np.ones(10)\n",
        "print(arr5)\n",
        "\n",
        "\n",
        "ones_array = np.ones((3, 4))  # A 3x4 array of ones\n",
        "print(ones_array)"
      ],
      "metadata": {
        "colab": {
          "base_uri": "https://localhost:8080/"
        },
        "id": "z-SSJTgdJVVj",
        "outputId": "6052db64-4eaf-4812-95e3-16ad0df5eff6"
      },
      "execution_count": 50,
      "outputs": [
        {
          "output_type": "stream",
          "name": "stdout",
          "text": [
            "[1. 1. 1. 1. 1. 1. 1. 1. 1. 1.]\n",
            "[[1. 1. 1. 1.]\n",
            " [1. 1. 1. 1.]\n",
            " [1. 1. 1. 1.]]\n"
          ]
        }
      ]
    },
    {
      "cell_type": "markdown",
      "source": [
        "np.zeros(   )"
      ],
      "metadata": {
        "id": "ZaGthlFEJrmk"
      }
    },
    {
      "cell_type": "code",
      "source": [
        "arr5 = np.zeros(10)\n",
        "print(arr5)\n",
        "zeros_array = np.zeros((2, 3))  # A 2x3 array of zeros\n",
        "print(zeros_array)"
      ],
      "metadata": {
        "colab": {
          "base_uri": "https://localhost:8080/"
        },
        "id": "uGHeUTIGJVSw",
        "outputId": "b6469eb3-c7b4-4aa7-c9d1-80bd9254d256"
      },
      "execution_count": 51,
      "outputs": [
        {
          "output_type": "stream",
          "name": "stdout",
          "text": [
            "[0. 0. 0. 0. 0. 0. 0. 0. 0. 0.]\n",
            "[[0. 0. 0.]\n",
            " [0. 0. 0.]]\n"
          ]
        }
      ]
    },
    {
      "cell_type": "markdown",
      "source": [
        "np.full(  )"
      ],
      "metadata": {
        "id": "V5UW6NbyKAla"
      }
    },
    {
      "cell_type": "code",
      "source": [
        "full_array = np.full((2, 3), 7)  # A 2x3 array filled with 7\n",
        "print(full_array)\n"
      ],
      "metadata": {
        "colab": {
          "base_uri": "https://localhost:8080/"
        },
        "id": "AVG46bNMJVQZ",
        "outputId": "a6bff663-1515-408e-d2f7-42fc6ce297ac"
      },
      "execution_count": 52,
      "outputs": [
        {
          "output_type": "stream",
          "name": "stdout",
          "text": [
            "[[7 7 7]\n",
            " [7 7 7]]\n"
          ]
        }
      ]
    },
    {
      "cell_type": "markdown",
      "source": [
        "np.arrange(  )"
      ],
      "metadata": {
        "id": "8TicinisKMHR"
      }
    },
    {
      "cell_type": "code",
      "source": [
        "arange_array = np.arange(0, 10, 2)  # Array from 0 to 10 with step size of 2\n",
        "print(arange_array)\n"
      ],
      "metadata": {
        "colab": {
          "base_uri": "https://localhost:8080/"
        },
        "id": "bMc2ejFfJVOD",
        "outputId": "cd3627d9-19a0-4989-ede8-dfcc7a029caa"
      },
      "execution_count": 53,
      "outputs": [
        {
          "output_type": "stream",
          "name": "stdout",
          "text": [
            "[0 2 4 6 8]\n"
          ]
        }
      ]
    },
    {
      "cell_type": "markdown",
      "source": [
        "np.linspcae(  )\n",
        "We'll learn more about linspace in further lessons"
      ],
      "metadata": {
        "id": "-jeySA0zKPoN"
      }
    },
    {
      "cell_type": "code",
      "source": [
        "linspace_array = np.linspace(0, 10, 5)  # 5 points between 0 and 10\n",
        "print(linspace_array)\n"
      ],
      "metadata": {
        "id": "1iCBlSWxJVLv"
      },
      "execution_count": null,
      "outputs": []
    },
    {
      "cell_type": "markdown",
      "source": [
        "np.eye(  )"
      ],
      "metadata": {
        "id": "uyQHvbOAKaWB"
      }
    },
    {
      "cell_type": "code",
      "source": [
        "eye_array = np.eye(3)  # A 3x3 identity matrix\n",
        "print(eye_array)\n"
      ],
      "metadata": {
        "colab": {
          "base_uri": "https://localhost:8080/"
        },
        "id": "N4ZRKgxtJVJi",
        "outputId": "b315bdba-e257-4152-d49d-dfccdded60f5"
      },
      "execution_count": 54,
      "outputs": [
        {
          "output_type": "stream",
          "name": "stdout",
          "text": [
            "[[1. 0. 0.]\n",
            " [0. 1. 0.]\n",
            " [0. 0. 1.]]\n"
          ]
        }
      ]
    },
    {
      "cell_type": "markdown",
      "source": [
        "np.random.rand(  )"
      ],
      "metadata": {
        "id": "JCjjIc11KhSB"
      }
    },
    {
      "cell_type": "code",
      "source": [
        "random_array = np.random.rand(2, 3)  # 2x3 array of random values between 0 and 1\n",
        "print(random_array)\n"
      ],
      "metadata": {
        "colab": {
          "base_uri": "https://localhost:8080/"
        },
        "id": "7P0pZxtPKeQp",
        "outputId": "d7aea41d-b4d8-4040-e244-928233c621e9"
      },
      "execution_count": 55,
      "outputs": [
        {
          "output_type": "stream",
          "name": "stdout",
          "text": [
            "[[0.08063533 0.5050977  0.71442176]\n",
            " [0.01357062 0.30797033 0.34248819]]\n"
          ]
        }
      ]
    },
    {
      "cell_type": "markdown",
      "source": [
        "np.random.randint(  )"
      ],
      "metadata": {
        "id": "_1vijf6JKrhl"
      }
    },
    {
      "cell_type": "code",
      "source": [
        "randint_array = np.random.randint(1, 10, size=(3, 3))  # Random integers between 1 and 10 in a 3x3 array\n",
        "print(randint_array)\n"
      ],
      "metadata": {
        "colab": {
          "base_uri": "https://localhost:8080/"
        },
        "id": "wokfNeOUKj7N",
        "outputId": "6913fe50-0000-4ece-86f1-d3c1b3c39ad1"
      },
      "execution_count": 56,
      "outputs": [
        {
          "output_type": "stream",
          "name": "stdout",
          "text": [
            "[[4 2 1]\n",
            " [8 1 8]\n",
            " [8 8 5]]\n"
          ]
        }
      ]
    },
    {
      "cell_type": "markdown",
      "source": [
        "np.repeat()"
      ],
      "metadata": {
        "id": "QuVFJ1buKxQC"
      }
    },
    {
      "cell_type": "code",
      "source": [
        "repeat_array = np.repeat([1, 2, 3], 3)  # Repeat each element 3 times\n",
        "print(repeat_array)\n"
      ],
      "metadata": {
        "colab": {
          "base_uri": "https://localhost:8080/"
        },
        "id": "Qe8SA3JgKvHX",
        "outputId": "046d5ff9-0dfd-44e8-fee0-a134b36c13d1"
      },
      "execution_count": 57,
      "outputs": [
        {
          "output_type": "stream",
          "name": "stdout",
          "text": [
            "[1 1 1 2 2 2 3 3 3]\n"
          ]
        }
      ]
    },
    {
      "cell_type": "markdown",
      "source": [
        "# How these functions are used in ML?"
      ],
      "metadata": {
        "id": "q2PTOyiDLrac"
      }
    },
    {
      "cell_type": "markdown",
      "source": [
        "***1. np.ones()***\n",
        "\n",
        "Creates arrays filled with 1s, often for initializing bias terms in models.\n",
        "\n",
        "***2. np.zeros()***\n",
        "\n",
        "Creates arrays filled with 0s, commonly used for initializing weights or representing missing data.\n",
        "\n",
        "***3. np.full()***\n",
        "\n",
        "Fills arrays with a specific value, useful for padding or initialization.\n",
        "\n",
        "***4. np.arange()***\n",
        "\n",
        "Generates sequences of numbers, helpful for creating indices or splitting datasets.\n",
        "\n",
        "***5. np.linspace()***\n",
        "\n",
        "Generates evenly spaced values between two numbers, often used for tuning hyperparameters or visualizations.\n",
        "\n",
        "***6. np.eye()***\n",
        "\n",
        "Creates an identity matrix, used in regularization or optimization tasks.\n",
        "\n",
        "***7. np.random.rand()***\n",
        "\n",
        "Generates random numbers between 0 and 1, commonly used for random initialization of weights.\n",
        "\n",
        "***8. np.random.randint()***\n",
        "\n",
        "Generates random integer values, useful for creating labels or shuffling data.\n",
        "\n",
        "***9. np.repeat()***\n",
        "\n",
        "Duplicates elements in an array, useful for repeating values or data augmentation.\n",
        "\n",
        "***10. np.reshape()***\n",
        "\n",
        "Changes the shape of an array, necessary for reshaping data or flattening images."
      ],
      "metadata": {
        "id": "pJcrLl0QLNzs"
      }
    }
  ]
}