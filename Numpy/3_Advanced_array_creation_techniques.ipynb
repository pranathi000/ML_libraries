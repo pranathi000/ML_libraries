{
  "nbformat": 4,
  "nbformat_minor": 0,
  "metadata": {
    "colab": {
      "provenance": [],
      "collapsed_sections": [
        "H2PHNdu2CdNC",
        "Txqa10EFMbfT",
        "3nFdyz58L1OA",
        "Lu5GFmcvOexZ"
      ]
    },
    "kernelspec": {
      "name": "python3",
      "display_name": "Python 3"
    },
    "language_info": {
      "name": "python"
    }
  },
  "cells": [
    {
      "cell_type": "markdown",
      "source": [
        "# Lesson 3: Advanced Array Creation Techniques"
      ],
      "metadata": {
        "id": "H2PHNdu2CdNC"
      }
    },
    {
      "cell_type": "markdown",
      "source": [
        "So in this lesson, we'll learn to generate more complex arrays and manipulate them effectively.\n",
        "We'll see :\n",
        "1. np.linspace() which is crucial in feature scaling( transform data to fit a specific range (like between 0 and 1)) and data preprocessing.\n",
        "\n",
        "2. np.random Some times we have to generate some random numbers between fixed intervals in order to handle complex data.\n",
        "\n",
        "3. Array stacking and splitting and some random sampling methods.\n",
        "\n"
      ],
      "metadata": {
        "id": "CKKFbVC8Co0k"
      }
    },
    {
      "cell_type": "markdown",
      "source": [
        "# What is linspace()?"
      ],
      "metadata": {
        "id": "Txqa10EFMbfT"
      }
    },
    {
      "cell_type": "markdown",
      "source": [
        "Let's start with linspace():\n",
        "\n",
        "  1. it generates evenly spaced values over a specified range\n",
        "  ### Why is it used?\n",
        "    2. It's commonly used in scenarios where you want to create a sequence of values between two points for graphing or input to ML models.\n",
        "  ### What are the parameters involved in it?\n",
        "    3. start: The starting value of the sequence.\n",
        "        * stop: The end value of the sequence (included by default).\n",
        "        * num: Number of samples to generate (default is 50).\n",
        "        * endpoint: If True (default), stop is included in the output. If False, it’s excluded.\n",
        "        * retstep: If True, returns (samples, step) instead of just samples.\n",
        "        * dtype: Type of the output array.\n",
        "        * axis: The axis in the result along which the linspace samples are stored.\n",
        "\n",
        "  Got confused of what these are? swipe up !"
      ],
      "metadata": {
        "id": "Mg1o11HkELD-"
      }
    },
    {
      "cell_type": "code",
      "source": [
        "import numpy as np\n",
        "import matplotlib.pyplot as plt\n"
      ],
      "metadata": {
        "id": "6p9T61F6CcNS"
      },
      "execution_count": 2,
      "outputs": []
    },
    {
      "cell_type": "code",
      "source": [
        "x = np.linspace(0,10,50) #50 equispaced values between 0 to 10\n",
        "print(x)"
      ],
      "metadata": {
        "colab": {
          "base_uri": "https://localhost:8080/"
        },
        "id": "MO6iTuueFKCb",
        "outputId": "3fbab6ef-e5f9-4314-ad92-e01609a22f7c"
      },
      "execution_count": 3,
      "outputs": [
        {
          "output_type": "stream",
          "name": "stdout",
          "text": [
            "[ 0.          0.20408163  0.40816327  0.6122449   0.81632653  1.02040816\n",
            "  1.2244898   1.42857143  1.63265306  1.83673469  2.04081633  2.24489796\n",
            "  2.44897959  2.65306122  2.85714286  3.06122449  3.26530612  3.46938776\n",
            "  3.67346939  3.87755102  4.08163265  4.28571429  4.48979592  4.69387755\n",
            "  4.89795918  5.10204082  5.30612245  5.51020408  5.71428571  5.91836735\n",
            "  6.12244898  6.32653061  6.53061224  6.73469388  6.93877551  7.14285714\n",
            "  7.34693878  7.55102041  7.75510204  7.95918367  8.16326531  8.36734694\n",
            "  8.57142857  8.7755102   8.97959184  9.18367347  9.3877551   9.59183673\n",
            "  9.79591837 10.        ]\n"
          ]
        }
      ]
    },
    {
      "cell_type": "code",
      "source": [
        "x = np.linspace(10,50,5) # 5 equispaced values between 10 to 50\n",
        "print(x)"
      ],
      "metadata": {
        "colab": {
          "base_uri": "https://localhost:8080/"
        },
        "id": "gPouhtiYCcFX",
        "outputId": "772e1361-3eb3-4a35-9ec7-aeec1335fbfe"
      },
      "execution_count": 5,
      "outputs": [
        {
          "output_type": "stream",
          "name": "stdout",
          "text": [
            "[10. 20. 30. 40. 50.]\n"
          ]
        }
      ]
    },
    {
      "cell_type": "code",
      "source": [
        "y = np.sin(x)\n",
        "print(y)"
      ],
      "metadata": {
        "colab": {
          "base_uri": "https://localhost:8080/"
        },
        "id": "l76I-cFDCb9M",
        "outputId": "171a6f50-eda7-4f90-ccd8-ec0eedaf6796"
      },
      "execution_count": 6,
      "outputs": [
        {
          "output_type": "stream",
          "name": "stdout",
          "text": [
            "[-0.54402111  0.91294525 -0.98803162  0.74511316 -0.26237485]\n"
          ]
        }
      ]
    },
    {
      "cell_type": "code",
      "source": [
        "x = np.linspace(0, 10, 10) # observe that if we take just 10 equal spaced values, the graph is not perfect\n",
        "# x = np.linspace(0,10,50) # it's perfect when it take 50\n",
        "# x = np.linspace(0,10,300) # try for 300  --> no change ig\n",
        "y = np.sin(x)\n",
        "\n",
        "plt.plot(x, y)\n",
        "plt.title('Sine Wave Visualization')\n",
        "plt.xlabel('x')\n",
        "plt.ylabel('sin(x)')\n",
        "plt.show()"
      ],
      "metadata": {
        "colab": {
          "base_uri": "https://localhost:8080/",
          "height": 472
        },
        "id": "bhx3LmmFCb02",
        "outputId": "f820743d-ffbe-452a-949f-32a70b9b227b"
      },
      "execution_count": 13,
      "outputs": [
        {
          "output_type": "display_data",
          "data": {
            "text/plain": [
              "<Figure size 640x480 with 1 Axes>"
            ],
            "image/png": "[encoded data removed]"
          },
          "metadata": {}
        }
      ]
    },
    {
      "cell_type": "markdown",
      "source": [
        "In ML, we often use np.linspace() to generate evenly spaced values for visualizing model outputs or performance metrics across a range of input values. For example, plotting the model's loss over epochs or decision boundaries of a classifier."
      ],
      "metadata": {
        "id": "88cu-nNFGpsy"
      }
    },
    {
      "cell_type": "code",
      "source": [
        "x ,step = np.linspace(0,10,5,retstep=True)\n",
        "print(x)\n",
        "print(\"Here the step size is : \",step)"
      ],
      "metadata": {
        "colab": {
          "base_uri": "https://localhost:8080/"
        },
        "id": "tFBAtNyTCbvU",
        "outputId": "c3628c0b-d951-49d1-fc46-7679ce6e5e89"
      },
      "execution_count": 17,
      "outputs": [
        {
          "output_type": "stream",
          "name": "stdout",
          "text": [
            "[ 0.   2.5  5.   7.5 10. ]\n",
            "Here the step size is :  2.5\n"
          ]
        }
      ]
    },
    {
      "cell_type": "markdown",
      "source": [
        "Knowing step size is important when you're trying to understand how fine or coarse the intervals are in grid search, parameter exploration, or generating test data for model evaluation."
      ],
      "metadata": {
        "id": "mrmxV3WfHNOr"
      }
    },
    {
      "cell_type": "markdown",
      "source": [
        "\n",
        "x * 2 means squaring each element in the x array (this is an element-wise operation).\n",
        "The resulting array y contains the square of each corresponding value in x.\n",
        "\n",
        "x[:5] retrieves the first 5 values from the x array.\n",
        "y[:5] retrieves the first 5 values from the y array (corresponding to the squares of the first 5 x values).\n"
      ],
      "metadata": {
        "id": "k70XQwetIIFN"
      }
    },
    {
      "cell_type": "code",
      "source": [
        "import numpy as np\n",
        "\n",
        "# Generate data points between -5 and 5, with 100 values\n",
        "x = np.linspace(-5, 5, 100)\n",
        "y = x ** 2  # Quadratic function\n",
        "\n",
        "# Example output (printing first 5 values for brevity)\n",
        "print(x[:5], y[:5])\n"
      ],
      "metadata": {
        "colab": {
          "base_uri": "https://localhost:8080/"
        },
        "id": "u-WOoEphCboD",
        "outputId": "f5e04ce7-0a48-4249-d593-9e282d5da1d2"
      },
      "execution_count": 18,
      "outputs": [
        {
          "output_type": "stream",
          "name": "stdout",
          "text": [
            "[-5.        -4.8989899 -4.7979798 -4.6969697 -4.5959596] [25.         24.00010203 23.02061014 22.06152433 21.12284461]\n"
          ]
        }
      ]
    },
    {
      "cell_type": "markdown",
      "source": [
        "Creating training or test data for regression problems (e.g., quadratic fitting). It can also be used for model input where a continuous range of values is needed, like generating data for training an autoencoder or regression model."
      ],
      "metadata": {
        "id": "NgPMvnD4HqLG"
      }
    },
    {
      "cell_type": "markdown",
      "source": [
        "Perfect for Charts & Graphs 🎨\n",
        "\n",
        "Let’s say you want a smooth curve to plot a graph. Instead of awkwardly guessing points, linspace just gives you as many as you need, all spaced out evenly.\n",
        "\n",
        "For Machine Learning 🤖\n",
        "\n",
        "Training a model and need some dummy data? Or testing how something changes over time? Boom—generate your test values with linspace."
      ],
      "metadata": {
        "id": "FRiXnJ6tIk_5"
      }
    },
    {
      "cell_type": "markdown",
      "source": [
        "### How linspace is diff from arange?\n",
        "1. Both arange and linspace are NumPy functions used to create arrays of numbers, but they serve slightly different purposes and have distinct behaviors. Let’s compare them and discuss when to use each.\n",
        "2. np.arange() :\n",
        "  * start,stop,step\n",
        "  * it may or may not include stop\n",
        "  * We ourself should determine the step size such as np.arange(1,5,0.5) where 0.5 is a step\n",
        "  * less reliable\n",
        "3. np.linspace():\n",
        "  * start,stop,number of points we want\n",
        "  * stop is mandatory and default\n",
        "  * it will automatically generate with accurate decimal points\n",
        "  * more reliable\n",
        "\n",
        "If you know the exact step size → Use np.arange.\n",
        "\n",
        "If you know the number of points you need → Use np.linspace.\n",
        "Ig we are pretty clear about linspace now!"
      ],
      "metadata": {
        "id": "ed03xhodI9zp"
      }
    },
    {
      "cell_type": "code",
      "source": [
        "x = np.linspace(10, 50, num=5, endpoint=True, retstep=True, dtype=int) #output in integer format\n",
        "y = np.linspace(10, 50, num=5, endpoint=True, retstep=True, dtype=float) #output in float format\n",
        "z = np.linspace(10, 50, num=5, endpoint=False, retstep=False, dtype=int) #It excludes the stop point and generated evenly spaced values before stop point\n",
        "w = np.linspace(10, 50, num=5, endpoint=True, retstep=False, dtype=int) # It includes stop point since endpoint=True\n",
        "w1= np.linspace(10, 50, num=5, endpoint=False, retstep=True, dtype=int) # It gives the step size since retstep=True\n",
        "\n",
        "print(x)\n",
        "print(y)\n",
        "print(z)\n",
        "print(w)\n",
        "print(w1)"
      ],
      "metadata": {
        "colab": {
          "base_uri": "https://localhost:8080/"
        },
        "id": "Z2u8UZ4JCbjK",
        "outputId": "a0125d46-1853-4a6a-ff38-c225d1f22ba5"
      },
      "execution_count": 25,
      "outputs": [
        {
          "output_type": "stream",
          "name": "stdout",
          "text": [
            "(array([10, 20, 30, 40, 50]), 10.0)\n",
            "(array([10., 20., 30., 40., 50.]), 10.0)\n",
            "[10 18 26 34 42]\n",
            "[10 20 30 40 50]\n",
            "(array([10, 18, 26, 34, 42]), 8.0)\n"
          ]
        }
      ]
    },
    {
      "cell_type": "markdown",
      "source": [
        "Ig now you are familiar with all the parameters included in linspace()\n",
        "\n",
        "# Lets learn ***Random Numbers and Sampling***"
      ],
      "metadata": {
        "id": "3nFdyz58L1OA"
      }
    },
    {
      "cell_type": "markdown",
      "source": [
        "np.random.randint() generates random integers from a specified range.\n",
        "Here, the range is [0,1):\n",
        "Numbers are from 1 to 9 (inclusive of 1, exclusive of 10).\n",
        "\n",
        "size=(3, 3) creates a 3x3 matrix (array) of random integers.\n",
        "Each element is a random integer within the specified range."
      ],
      "metadata": {
        "id": "EBmDkYRRM1Ft"
      }
    },
    {
      "cell_type": "code",
      "source": [
        "uniform = np.random.rand(3, 3)\n",
        "print(\"Uniform Random Numbers:\\n\", uniform)\n"
      ],
      "metadata": {
        "colab": {
          "base_uri": "https://localhost:8080/"
        },
        "id": "QLonkwxlCbeG",
        "outputId": "543e940b-7fe9-43a0-f774-9c345b0e31d6"
      },
      "execution_count": 26,
      "outputs": [
        {
          "output_type": "stream",
          "name": "stdout",
          "text": [
            "Uniform Random Numbers:\n",
            " [[0.34465258 0.75975517 0.88963851]\n",
            " [0.03306871 0.11079677 0.54686744]\n",
            " [0.30960431 0.87962983 0.99692707]]\n"
          ]
        }
      ]
    },
    {
      "cell_type": "markdown",
      "source": [
        "the code above contains the word rand and the code below contains randn which implies that it is a normal distribution where as the above code is a uniform distribution.\n",
        "\n",
        "\n",
        "\n",
        "  * np.random.randn() generates random numbers from a standard normal distribution.\n",
        "A normal distribution (or Gaussian distribution) is bell-shaped:\n",
        "The mean (average) is 0.\n",
        "The standard deviation (spread) is 1.\n",
        "\n",
        "  * 3, 3 creates a 3x3 matrix (array) of random numbers.\n",
        "Most of the numbers are close to 0, with fewer numbers further away from 0.\n"
      ],
      "metadata": {
        "id": "5tEOkZM8NQGH"
      }
    },
    {
      "cell_type": "code",
      "source": [
        "normal = np.random.randn(3, 3)\n",
        "print(\"Normal Distribution:\\n\", normal)\n"
      ],
      "metadata": {
        "colab": {
          "base_uri": "https://localhost:8080/"
        },
        "id": "UeHVqtNXCbap",
        "outputId": "ab670814-0169-4c28-e8e1-ee21a9c75ffc"
      },
      "execution_count": 27,
      "outputs": [
        {
          "output_type": "stream",
          "name": "stdout",
          "text": [
            "Normal Distribution:\n",
            " [[ 0.44185669 -0.15124179  0.54156665]\n",
            " [ 0.50293961 -0.99038299  0.0310091 ]\n",
            " [-1.23281341  1.77960214 -1.14850092]]\n"
          ]
        }
      ]
    },
    {
      "cell_type": "markdown",
      "source": [
        "np.random.randint() generates random integers from a specified range.\n",
        "Here, the range is [1, 10):\n",
        "Numbers are from 1 to 9 (inclusive of 1, exclusive of 10).\n",
        "\n",
        "size=(3, 3) creates a 3x3 matrix (array) of random integers.\n",
        "Each element is a random integer within the specified range.\n"
      ],
      "metadata": {
        "id": "0oA1q27eN5lX"
      }
    },
    {
      "cell_type": "code",
      "source": [
        "integers = np.random.randint(1, 10, size=(3, 3))\n",
        "print(\"Random Integers:\\n\", integers)\n"
      ],
      "metadata": {
        "id": "eFN4AV2iCbVA"
      },
      "execution_count": null,
      "outputs": []
    },
    {
      "cell_type": "markdown",
      "source": [
        "### Permutation of an Array\n",
        "* A permutation of an array refers to a rearrangement of its elements in a new order. This means the same elements are present, but their positions have changed. The permuted array is just one of the possible ways the elements in the original array can be shuffled."
      ],
      "metadata": {
        "id": "4M1X4qO2OJpG"
      }
    },
    {
      "cell_type": "code",
      "source": [
        "arr = np.array([1, 2, 3, 4, 5])\n",
        "permuted = np.random.permutation(arr)\n",
        "print(\"Original Array:\", arr)\n",
        "print(\"Permuted Array:\", permuted)\n"
      ],
      "metadata": {
        "colab": {
          "base_uri": "https://localhost:8080/"
        },
        "id": "eZ7ABD70CbPX",
        "outputId": "46f1c8d6-0c43-47a4-875d-3241c0e18bdf"
      },
      "execution_count": 28,
      "outputs": [
        {
          "output_type": "stream",
          "name": "stdout",
          "text": [
            "Original Array: [1 2 3 4 5]\n",
            "Permuted Array: [1 5 2 3 4]\n"
          ]
        }
      ]
    },
    {
      "cell_type": "markdown",
      "source": [
        "In ML permutation is helpful in :\n",
        "Shuffling Data: Prevents the model from learning order-based patterns in sequential data (e.g., time-series or sorted datasets).\n",
        "Cross-Validation: Helps in creating randomized folds for training and validation."
      ],
      "metadata": {
        "id": "3vzC-YzMPFsp"
      }
    },
    {
      "cell_type": "markdown",
      "source": [
        "# Array stacking and splitting"
      ],
      "metadata": {
        "id": "Lu5GFmcvOexZ"
      }
    },
    {
      "cell_type": "code",
      "source": [
        "a = np.array([1, 2, 3])\n",
        "b = np.array([4, 5, 6])\n",
        "\n",
        "# Horizontal stacking\n",
        "hstacked = np.hstack((a, b))\n",
        "print(\"Horizontally Stacked:\", hstacked)\n",
        "\n",
        "# Vertical stacking\n",
        "vstacked = np.vstack((a, b))\n",
        "print(\"Vertically Stacked:\\n\", vstacked)\n"
      ],
      "metadata": {
        "colab": {
          "base_uri": "https://localhost:8080/"
        },
        "id": "NnFO_Pu-CbKM",
        "outputId": "8e154f3a-b351-4b92-8a98-80bb6ba5e2b5"
      },
      "execution_count": 29,
      "outputs": [
        {
          "output_type": "stream",
          "name": "stdout",
          "text": [
            "Horizontally Stacked: [1 2 3 4 5 6]\n",
            "Vertically Stacked:\n",
            " [[1 2 3]\n",
            " [4 5 6]]\n"
          ]
        }
      ]
    },
    {
      "cell_type": "markdown",
      "source": [
        "np.hsplit()\tSplit arrays horizontally (column-wise).\n",
        "np.vsplit()\tSplit arrays vertically (row-wise)."
      ],
      "metadata": {
        "id": "ipbIw8kDOvhm"
      }
    },
    {
      "cell_type": "code",
      "source": [
        "arr = np.array([[1, 2, 3], [4, 5, 6], [7, 8, 9]])\n",
        "\n",
        "# Horizontal split\n",
        "hsplit = np.hsplit(arr, 3)\n",
        "print(\"Horizontally Split:\\n\", hsplit)\n",
        "\n",
        "# Vertical split\n",
        "vsplit = np.vsplit(arr, 3)\n",
        "print(\"Vertically Split:\\n\", vsplit)\n"
      ],
      "metadata": {
        "colab": {
          "base_uri": "https://localhost:8080/"
        },
        "id": "cNpbm8ybCbFQ",
        "outputId": "91f3eb92-51fe-4deb-dfa9-96d6318038bd"
      },
      "execution_count": 30,
      "outputs": [
        {
          "output_type": "stream",
          "name": "stdout",
          "text": [
            "Horizontally Split:\n",
            " [array([[1],\n",
            "       [4],\n",
            "       [7]]), array([[2],\n",
            "       [5],\n",
            "       [8]]), array([[3],\n",
            "       [6],\n",
            "       [9]])]\n",
            "Vertically Split:\n",
            " [array([[1, 2, 3]]), array([[4, 5, 6]]), array([[7, 8, 9]])]\n"
          ]
        }
      ]
    },
    {
      "cell_type": "markdown",
      "source": [
        "ML application:\n",
        "\n",
        "Train-Test Split: Divide data for training and testing.\n",
        "Batch Processing: Split data into manageable chunks for iterative training."
      ],
      "metadata": {
        "id": "OWs3oVW5POTJ"
      }
    },
    {
      "cell_type": "markdown",
      "source": [
        "In case if you havent loooked at my previous lesson colabs --> check it out at [pranathi000 - github](https://github.com/pranathi000/ML_libraries/tree/main/Numpy)"
      ],
      "metadata": {
        "id": "rVYGCAVePeDG"
      }
    }
  ]
}