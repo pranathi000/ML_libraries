{
  "nbformat": 4,
  "nbformat_minor": 0,
  "metadata": {
    "colab": {
      "provenance": []
    },
    "kernelspec": {
      "name": "python3",
      "display_name": "Python 3"
    },
    "language_info": {
      "name": "python"
    }
  },
  "cells": [
    {
      "cell_type": "markdown",
      "source": [
        "[Google Colab](https://colab.research.google.com/drive/) You can open google colab to practice the codes.\n",
        "\n",
        "```\n",
        "# This is formatted as code\n",
        "```\n",
        "\n"
      ],
      "metadata": {
        "id": "Iaxh4bKZKPQn"
      }
    },
    {
      "cell_type": "markdown",
      "source": [
        "# Lesson 2: Array Manipulation and Basic Mathematical Functions"
      ],
      "metadata": {
        "id": "-Es1uXSUR66R"
      }
    },
    {
      "cell_type": "markdown",
      "source": [
        "***Topics to Cover:***\n",
        "Array Reshaping & Flattening\n",
        "\n",
        "\n",
        "\n",
        "```\n",
        "reshape()\n",
        "flatten()\n",
        "np.expand_dims()\n",
        "np.squeeze()\n",
        "```\n",
        "\n",
        "\n",
        "### Mathematical Functions\n",
        "\n",
        "Element-wise arithmetic operations: addition, subtraction, multiplication, division\n",
        "Basic statistical functions: np.sum(), np.mean(), np.min(), np.max(), np.std()\n",
        "\n",
        "1. np.sum()\n",
        "2. np.sum()\n",
        "3. np.mean()\n",
        "4. np.min()\n",
        "5. np.max()\n",
        "6. np.std()\n",
        "\n",
        "### Array Broadcasting\n",
        "\n",
        "Concept of broadcasting\n",
        "Broadcasting between arrays of different shapes\n",
        "Scalar broadcasting\n",
        "Basic Statistical Functions\n",
        "\n",
        "Calculating mean, median, standard deviation, and variance\n"
      ],
      "metadata": {
        "id": "eSZ78phiSKqi"
      }
    },
    {
      "cell_type": "code",
      "execution_count": 18,
      "metadata": {
        "id": "6-N_KUkhR5ws"
      },
      "outputs": [],
      "source": [
        "import numpy as np"
      ]
    },
    {
      "cell_type": "markdown",
      "source": [],
      "metadata": {
        "id": "QL1IOmPbTW4g"
      }
    },
    {
      "cell_type": "code",
      "source": [
        "arr = np.arange(12)\n",
        "# since number elemnts such 1,2,3,4 are not given, it takes the elements from 0 to 11 as we provided upto 12\n",
        "# you can also give any number instead of 12\n",
        "reshaped_arr = arr.reshape(3,4)\n",
        "# we wanna reshape the arrat with 3 rows and 4 columns\n",
        "print(\"Reshaped Array:\\n\", reshaped_arr)"
      ],
      "metadata": {
        "colab": {
          "base_uri": "https://localhost:8080/"
        },
        "id": "rSN1KyvIS5Bc",
        "outputId": "b85636ab-4709-4e3e-f060-d4ddc1373ad1"
      },
      "execution_count": 19,
      "outputs": [
        {
          "output_type": "stream",
          "name": "stdout",
          "text": [
            "Reshaped Array:\n",
            " [[ 0  1  2  3]\n",
            " [ 4  5  6  7]\n",
            " [ 8  9 10 11]]\n"
          ]
        }
      ]
    },
    {
      "cell_type": "markdown",
      "source": [
        "Remember that, it's not *arrange* it's **arange** .\n",
        "\n",
        "What if we want to convert the 2D array back into 1D array?\n",
        "Instead of creating a diff array and elemeting it, you can convert using a method called flatten().\n",
        "Take the reshaped array, above and flatten it again\n"
      ],
      "metadata": {
        "id": "VsmLdn8uTYWm"
      }
    },
    {
      "cell_type": "code",
      "source": [
        "# Flattening the 2D array back into 1D\n",
        "flattened_arr = reshaped_arr.flatten()\n",
        "print(\"Flattened Array:\", flattened_arr)\n"
      ],
      "metadata": {
        "colab": {
          "base_uri": "https://localhost:8080/"
        },
        "id": "p_hnQIHIS8J7",
        "outputId": "1618ad3a-b84a-4498-b488-a11a69331826"
      },
      "execution_count": 20,
      "outputs": [
        {
          "output_type": "stream",
          "name": "stdout",
          "text": [
            "Flattened Array: [ 0  1  2  3  4  5  6  7  8  9 10 11]\n"
          ]
        }
      ]
    },
    {
      "cell_type": "markdown",
      "source": [
        "Lets expand the dimensions of reshaped array to create a 3D array"
      ],
      "metadata": {
        "id": "NcMbPb_DUg2f"
      }
    },
    {
      "cell_type": "code",
      "source": [
        "expanded_arr = np.expand_dims(reshaped_arr,axis=0) #axis=0 row wise\n",
        "print(\"Expanded Array (1x3x4):\\n\", expanded_arr)\n"
      ],
      "metadata": {
        "colab": {
          "base_uri": "https://localhost:8080/"
        },
        "id": "NbLz1y3GURYo",
        "outputId": "b08b7b46-e7a7-403f-ac09-7fe0e78a0520"
      },
      "execution_count": 21,
      "outputs": [
        {
          "output_type": "stream",
          "name": "stdout",
          "text": [
            "Expanded Array (1x3x4):\n",
            " [[[ 0  1  2  3]\n",
            "  [ 4  5  6  7]\n",
            "  [ 8  9 10 11]]]\n"
          ]
        }
      ]
    },
    {
      "cell_type": "markdown",
      "source": [
        "we use expand_dims() to expand it"
      ],
      "metadata": {
        "id": "9HdmSCcKU46a"
      }
    },
    {
      "cell_type": "code",
      "source": [
        "expanded_arr = np.expand_dims(reshaped_arr,axis=1) #axis=1 col wise\n",
        "print(\"Expanded Array (1x3x4):\\n\", expanded_arr)\n"
      ],
      "metadata": {
        "colab": {
          "base_uri": "https://localhost:8080/"
        },
        "id": "4npVg2FuUxwQ",
        "outputId": "2cb12499-b301-4d4f-d647-0ba4cbbf7c5a"
      },
      "execution_count": 22,
      "outputs": [
        {
          "output_type": "stream",
          "name": "stdout",
          "text": [
            "Expanded Array (1x3x4):\n",
            " [[[ 0  1  2  3]]\n",
            "\n",
            " [[ 4  5  6  7]]\n",
            "\n",
            " [[ 8  9 10 11]]]\n"
          ]
        }
      ]
    },
    {
      "cell_type": "code",
      "source": [
        "# Create a 3D array of shape (1, 3, 1)\n",
        "arr4 = np.array([[[0], [1], [2]]])\n",
        "\n",
        "print(\"Original Array Shape:\", arr4.shape)\n",
        "# here (1,3,1) refers that there is 1 block,3 sub blocks, and 1 element in each sub block"
      ],
      "metadata": {
        "colab": {
          "base_uri": "https://localhost:8080/"
        },
        "id": "p2bpabR9U__C",
        "outputId": "c03413ca-4b11-4ed5-d781-41ef0be76feb"
      },
      "execution_count": 23,
      "outputs": [
        {
          "output_type": "stream",
          "name": "stdout",
          "text": [
            "Original Array Shape: (1, 3, 1)\n"
          ]
        }
      ]
    },
    {
      "cell_type": "markdown",
      "source": [
        "squeeze(  ) helps in surpressing more dimensional array in into single dimensional arr."
      ],
      "metadata": {
        "id": "5FaTCSp-BLYH"
      }
    },
    {
      "cell_type": "code",
      "source": [
        "# Squeezing the array\n",
        "squeezed_arr = np.squeeze(arr4)\n",
        "print(\"Squeezed Array Shape:\", squeezed_arr.shape)\n",
        "print(\"Squeezed Array:\\n\", squeezed_arr)"
      ],
      "metadata": {
        "colab": {
          "base_uri": "https://localhost:8080/"
        },
        "id": "R_abJVqEVcur",
        "outputId": "a8cd0847-cc09-4cba-fb65-585dceb9e2cf"
      },
      "execution_count": 24,
      "outputs": [
        {
          "output_type": "stream",
          "name": "stdout",
          "text": [
            "Squeezed Array Shape: (3,)\n",
            "Squeezed Array:\n",
            " [0 1 2]\n"
          ]
        }
      ]
    },
    {
      "cell_type": "markdown",
      "source": [
        "# Mathematical Functions"
      ],
      "metadata": {
        "id": "9-iUNzejBqWG"
      }
    },
    {
      "cell_type": "code",
      "source": [
        "import numpy as np\n",
        "my_arr1 = np.array([1,2,3,4,5])\n",
        "my_arr2 = np.array([6,7,8,9,10])\n",
        "sum_arr = my_arr1 + my_arr2\n",
        "print(\"Sum Array:\", sum_arr)\n",
        "\n",
        "\n",
        "# Element-wise subtraction\n",
        "sub_arr = my_arr1 - my_arr2\n",
        "print(\"Subtraction:\", sub_arr)\n",
        "\n",
        "# Element-wise multiplication\n",
        "mul_arr = my_arr1 * my_arr2\n",
        "print(\"Multiplication:\", mul_arr)\n",
        "\n",
        "# Element-wise division\n",
        "div_arr = my_arr1 / my_arr2\n",
        "print(\"Division:\", div_arr)"
      ],
      "metadata": {
        "id": "1tBtnE3KW0Jf",
        "colab": {
          "base_uri": "https://localhost:8080/"
        },
        "outputId": "9b7be51f-72e3-4e87-f63d-797901a0876d"
      },
      "execution_count": 25,
      "outputs": [
        {
          "output_type": "stream",
          "name": "stdout",
          "text": [
            "Sum Array: [ 7  9 11 13 15]\n",
            "Subtraction: [-5 -5 -5 -5 -5]\n",
            "Multiplication: [ 6 14 24 36 50]\n",
            "Division: [0.16666667 0.28571429 0.375      0.44444444 0.5       ]\n"
          ]
        }
      ]
    },
    {
      "cell_type": "markdown",
      "source": [
        "How to add two unequal arrays?\n",
        "* Here we have to append zeros to the end of the array which is small\n",
        "* we consider the lenth of the bigger array to be the result of the array\n",
        "* First find out the max length of the any given array.\n",
        "* we use np.pad() to append the zeros. No need to append any zeros to the bigger array.\n",
        "* The constant_values=0 ensures the padding values are 0. If this parameter were omitted or set to a different value, the padding might default to another value or behavior, which would result in incorrect sums."
      ],
      "metadata": {
        "id": "nF3dhkg2E01y"
      }
    },
    {
      "cell_type": "code",
      "source": [
        "\n",
        "def add_arrays_numpy(my_arr1, my_arr2):\n",
        "    max_len = max(len(my_arr1), len(my_arr2))\n",
        "    my_arr1 = np.pad(my_arr1, (0, max_len - len(my_arr1)), constant_values=0)\n",
        "    my_arr2 = np.pad(my_arr2, (0, max_len - len(my_arr2)), constant_values=0)\n",
        "    return my_arr1 + my_arr2\n",
        "\n",
        "result = add_arrays_numpy(my_arr1, my_arr2)\n",
        "print(result)  # Output: [5 7 3]\n"
      ],
      "metadata": {
        "colab": {
          "base_uri": "https://localhost:8080/"
        },
        "id": "sbz1pNf1B4lJ",
        "outputId": "e4da3834-9eeb-49f9-a0ae-873f6e1e18a7"
      },
      "execution_count": 26,
      "outputs": [
        {
          "output_type": "stream",
          "name": "stdout",
          "text": [
            "[ 7  9 11 13 15]\n"
          ]
        }
      ]
    },
    {
      "cell_type": "markdown",
      "source": [
        "The same applies for subtraction , multiplication and division.\n"
      ],
      "metadata": {
        "id": "c96e4DPCF2Gg"
      }
    },
    {
      "cell_type": "markdown",
      "source": [
        "# Statistical Functions"
      ],
      "metadata": {
        "id": "2G-Q_E4gGF3w"
      }
    },
    {
      "cell_type": "markdown",
      "source": [
        "Numpy is inbuit with some statistical operations instead of doing them manually through code.\n",
        "* They are much handy while organising data, calculating mean and more..."
      ],
      "metadata": {
        "id": "FJcsogm9GJKO"
      }
    },
    {
      "cell_type": "code",
      "source": [
        "sum_val = np.sum(my_arr1)\n",
        "print(\"Sum:\", sum_val)\n",
        "\n",
        "mean_val =  np.mean(my_arr1)\n",
        "print(\"Mean:\", mean_val)\n",
        "\n",
        "min_val = np.min(my_arr1)\n",
        "print(\"Min:\", min_val)\n",
        "\n",
        "max_val = np.max(my_arr1)\n",
        "print(\"Max:\", max_val)\n",
        "\n",
        "# Standard deviation\n",
        "std_val = np.std(my_arr1)\n",
        "print(\"Standard Deviation:\", std_val)"
      ],
      "metadata": {
        "colab": {
          "base_uri": "https://localhost:8080/"
        },
        "id": "ZY6sbuONGFA3",
        "outputId": "8debff22-91a5-4d9e-a430-566f3f328670"
      },
      "execution_count": 27,
      "outputs": [
        {
          "output_type": "stream",
          "name": "stdout",
          "text": [
            "Sum: 15\n",
            "Mean: 3.0\n",
            "Min: 1\n",
            "Max: 5\n",
            "Standard Deviation: 1.4142135623730951\n"
          ]
        }
      ]
    },
    {
      "cell_type": "markdown",
      "source": [
        "# Array broadcasting"
      ],
      "metadata": {
        "id": "E3CzN0BaG90B"
      }
    },
    {
      "cell_type": "code",
      "source": [
        "arr1 = np.array([[1, 2], [3, 4]])\n",
        "arr2 = np.array([10, 20])\n",
        "\n",
        "# Broadcasting arr2 (1D) to match arr1 (2D)\n",
        "broadcasted_arr = arr1 + arr2\n",
        "print(\"Broadcasted Array:\\n\", broadcasted_arr)\n",
        "#  10+1 10+3 20+2 20+4"
      ],
      "metadata": {
        "colab": {
          "base_uri": "https://localhost:8080/"
        },
        "id": "UGnEQbV2CFYP",
        "outputId": "09c8f9a0-322f-46c0-a072-6b2061acd33a"
      },
      "execution_count": 28,
      "outputs": [
        {
          "output_type": "stream",
          "name": "stdout",
          "text": [
            "Broadcasted Array:\n",
            " [[11 22]\n",
            " [13 24]]\n"
          ]
        }
      ]
    },
    {
      "cell_type": "markdown",
      "source": [
        "### Scalar Broadcasting"
      ],
      "metadata": {
        "id": "Z3Yx8uRMHa3k"
      }
    },
    {
      "cell_type": "code",
      "source": [
        "# Broadcasting a scalar value to an array\n",
        "# To add any scalar value to the multi dimensional array\n",
        "scalar = 5\n",
        "scalar_broadcasted_arr = arr1 + scalar\n",
        "print(\"Scalar Broadcasted Array:\\n\", scalar_broadcasted_arr)\n"
      ],
      "metadata": {
        "colab": {
          "base_uri": "https://localhost:8080/"
        },
        "id": "0wYZrbBfHWzO",
        "outputId": "533a39c8-244d-486d-e5ec-51dbd9e5fa3e"
      },
      "execution_count": 29,
      "outputs": [
        {
          "output_type": "stream",
          "name": "stdout",
          "text": [
            "Scalar Broadcasted Array:\n",
            " [[6 7]\n",
            " [8 9]]\n"
          ]
        }
      ]
    },
    {
      "cell_type": "markdown",
      "source": [
        "When coming to the more basic statistical Functions which are like heart of ML such as mean , median, variance, etc can be easily computed by direct methods."
      ],
      "metadata": {
        "id": "vdBW6f5VH2SV"
      }
    },
    {
      "cell_type": "code",
      "source": [
        "arr = np.array([1, 2, 3, 4, 5, 6, 7, 8, 9])\n",
        "\n",
        "# Mean\n",
        "mean_val = np.mean(arr)\n",
        "print(\"Mean:\", mean_val)\n",
        "\n",
        "# Median\n",
        "median_val = np.median(arr)\n",
        "print(\"Median:\", median_val)\n",
        "\n",
        "# Standard Deviation\n",
        "std_val = np.std(arr)\n",
        "print(\"Standard Deviation:\", std_val)\n",
        "\n",
        "# Variance\n",
        "var_val = np.var(arr)\n",
        "print(\"Variance:\", var_val)\n"
      ],
      "metadata": {
        "colab": {
          "base_uri": "https://localhost:8080/"
        },
        "id": "YIHseX78HtO4",
        "outputId": "ca1bdf00-aa5f-41a4-995a-21356ed4b414"
      },
      "execution_count": 30,
      "outputs": [
        {
          "output_type": "stream",
          "name": "stdout",
          "text": [
            "Mean: 5.0\n",
            "Median: 5.0\n",
            "Standard Deviation: 2.581988897471611\n",
            "Variance: 6.666666666666667\n"
          ]
        }
      ]
    },
    {
      "cell_type": "markdown",
      "source": [
        "### calculating Percentage:\n",
        "25th Percentile (Q1):\n",
        "Position:\n",
        "0.25\n",
        "×\n",
        "(\n",
        "𝑛\n",
        "−\n",
        "1\n",
        ")\n",
        "\n",
        "𝑛\n",
        "n is the number of elements.\n",
        "0.25\n",
        "×\n",
        "4\n",
        "=\n",
        "1.0\n",
        ", so take the value at index 1, which is 20.\n",
        "\n",
        "\n",
        "75th Percentile (Q3):\n",
        "Position:\n",
        "0.75\n",
        "×\n",
        "(\n",
        "𝑛\n",
        "−\n",
        "1\n",
        ")\n",
        "\n",
        "0.75\n",
        "×\n",
        "4\n",
        "=\n",
        "3.0\n",
        ", so take the value at index 3, which is 40."
      ],
      "metadata": {
        "id": "vW9ZJp96I42t"
      }
    },
    {
      "cell_type": "code",
      "source": [
        "data = [10, 20, 30, 40, 50]\n",
        "percentile_25 = np.percentile(data, 25)\n",
        "percentile_75 = np.percentile(data, 75)\n",
        "print(\"25th Percentile:\", percentile_25, \"75th Percentile:\", percentile_75)\n"
      ],
      "metadata": {
        "colab": {
          "base_uri": "https://localhost:8080/"
        },
        "id": "eiPPh1sEIFtY",
        "outputId": "3c7472ed-486b-4c3d-f770-10daf648d6a6"
      },
      "execution_count": 31,
      "outputs": [
        {
          "output_type": "stream",
          "name": "stdout",
          "text": [
            "25th Percentile: 20.0 75th Percentile: 40.0\n"
          ]
        }
      ]
    },
    {
      "cell_type": "code",
      "source": [
        "x = [1, 2, 3, 4, 5]\n",
        "y = [2, 4, 6, 8, 10]\n",
        "\n",
        "cov_matrix = np.cov(x, y)\n",
        "print(\"Covariance Matrix:\\n\", cov_matrix)\n"
      ],
      "metadata": {
        "colab": {
          "base_uri": "https://localhost:8080/"
        },
        "id": "arSuAHJ9IaFr",
        "outputId": "c5d93fe0-1fa8-4870-b1d5-cb0576029097"
      },
      "execution_count": 32,
      "outputs": [
        {
          "output_type": "stream",
          "name": "stdout",
          "text": [
            "Covariance Matrix:\n",
            " [[ 2.5  5. ]\n",
            " [ 5.  10. ]]\n"
          ]
        }
      ]
    },
    {
      "cell_type": "markdown",
      "source": [
        "Input Arrays:\n",
        "\n",
        "𝑥\n",
        "=\n",
        "[\n",
        "1\n",
        ",\n",
        "2\n",
        ",\n",
        "3\n",
        ",\n",
        "4\n",
        ",\n",
        "5\n",
        "]\n",
        "\n",
        "\n",
        "𝑦\n",
        "=\n",
        "[\n",
        "2\n",
        ",\n",
        "4\n",
        ",\n",
        "6\n",
        ",\n",
        "8\n",
        ",\n",
        "10\n",
        "]\n",
        "\n",
        "Correlation Calculation:\n",
        "\n",
        "The relationship between x and y is perfectly linear:\n",
        "𝑦\n",
        "=\n",
        "2\n",
        "𝑥\n",
        "\n",
        "The correlation coefficient is 1 because as x increases, y increases proportionally."
      ],
      "metadata": {
        "id": "SEmnGzRlJUYP"
      }
    },
    {
      "cell_type": "code",
      "source": [
        "x = [1, 2, 3, 4, 5]\n",
        "y = [2, 4, 6, 8, 10]\n",
        "\n",
        "corr_coef = np.corrcoef(x, y)\n",
        "print(\"Correlation Coefficient Matrix:\\n\", corr_coef)\n"
      ],
      "metadata": {
        "colab": {
          "base_uri": "https://localhost:8080/"
        },
        "id": "plCjHZghIgiA",
        "outputId": "31074555-45d7-4cb7-8e0a-42caf8812aa6"
      },
      "execution_count": 33,
      "outputs": [
        {
          "output_type": "stream",
          "name": "stdout",
          "text": [
            "Correlation Coefficient Matrix:\n",
            " [[1. 1.]\n",
            " [1. 1.]]\n"
          ]
        }
      ]
    },
    {
      "cell_type": "markdown",
      "source": [
        "**Lesson 2: Array Manipulation and Basic Mathematical Functions in ML Context\n",
        "Array Reshaping & Flattening**\n",
        "\n",
        "* reshape(): Useful for reshaping datasets into compatible input/output formats for models.\n",
        "* flatten(): Converts multidimensional data (e.g., images) into a 1D array for ML algorithms.\n",
        "* np.expand_dims(): Adds an axis to data, often used when a model expects additional dimensions (e.g., for batch size).\n",
        "* np.squeeze(): Removes unnecessary dimensions to simplify the data structure (e.g., after model predictions).\n",
        "Adding/Removing Dimensions\n",
        "\n",
        "Ensures compatibility with ML models by aligning the input/output shapes.\n",
        "Mathematical Functions\n",
        "Addition, Subtraction, Multiplication, Division: Perform element-wise operations for data augmentation or preprocessing.\n",
        "* np.sum(): Aggregates data, such as summing feature values or losses.\n",
        "* np.mean(): Calculates averages, used in metrics like Mean Squared Error (MSE).\n",
        "* np.min() and np.max(): Identify feature ranges for normalization or scaling.\n",
        "* np.std(): Computes the standard deviation, crucial for standardizing data.\n",
        "\n",
        "**Array Broadcasting**\n",
        "* Concept of broadcasting: Aligns smaller arrays with larger ones during operations without explicit reshaping.\n",
        "* Broadcasting between different shapes: Efficient for batch processing and element-wise operations in ML.\n",
        "* Scalar broadcasting: Applies scalar operations across entire datasets (e.g., scaling pixel values in images).\n",
        "**Basic Statistical Functions**\n",
        "* Mean, Median, Standard Deviation, Variance: Provide insights into data distribution for preprocessing and feature scaling.\n",
        "* Covariance and Correlation: Measure relationships between features, aiding in feature selection.\n",
        "**Applications in Machine Learning**\n",
        "* Reshaping: Prepare data for models (e.g., images reshaped to (-1, 28, 28) for CNNs).\n",
        "* Flattening: Convert data for dense layers or traditional ML models.\n",
        "* Element-wise operations: Normalize or augment datasets.\n",
        "* Broadcasting: Simplifies batch computations in neural networks.\n",
        "* Statistical functions: Analyze and preprocess datasets for better model performance."
      ],
      "metadata": {
        "id": "N1zGol_5McT3"
      }
    },
    {
      "cell_type": "markdown",
      "source": [
        "***Here is my Lesson1 in case if you haven't looked at it before!***\n",
        "[Github: pranathi000](https://github.com/pranathi000/ML_libraries/blob/main/Numpy/1_Basics_of_numpy_arrays.ipynb)"
      ],
      "metadata": {
        "id": "m_D1_36dKrp1"
      }
    }
  ]
}