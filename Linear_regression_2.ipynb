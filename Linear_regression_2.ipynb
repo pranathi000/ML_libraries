{
  "nbformat": 4,
  "nbformat_minor": 0,
  "metadata": {
    "colab": {
      "provenance": [],
      "toc_visible": true,
      "authorship_tag": "ABX9TyNS9sJUBP9CmzEiBy1yL8wf",
      "include_colab_link": true
    },
    "kernelspec": {
      "name": "python3",
      "display_name": "Python 3"
    },
    "language_info": {
      "name": "python"
    }
  },
  "cells": [
    {
      "cell_type": "markdown",
      "metadata": {
        "id": "view-in-github",
        "colab_type": "text"
      },
      "source": [
        "<a href=\"https://colab.research.google.com/github/pranathi000/ML_libraries/blob/main/Linear_regression_2.ipynb\" target=\"_parent\"><img src=\"https://colab.research.google.com/assets/colab-badge.svg\" alt=\"Open In Colab\"/></a>"
      ]
    },
    {
      "cell_type": "markdown",
      "source": [
        "# Data Preprocessing"
      ],
      "metadata": {
        "id": "sw8goZX5DBoy"
      }
    },
    {
      "cell_type": "markdown",
      "source": [
        "This is the first baby step to learn machine learning. The process of converting the raw data into clean data.\n",
        "\n",
        "All of you are well aware of the point that machine learning engineers use data which are in the form of datasets.\n",
        "\n",
        "In the following notebooks, I'll take/directly import the datasets from kaggle that has many datasets.\n",
        "\n",
        "I will make every notebook larger in length since there are a bundle of concepts waiting for you.\n",
        "\n"
      ],
      "metadata": {
        "id": "CpQu1hwMDBe4"
      }
    },
    {
      "cell_type": "markdown",
      "source": [
        "As mentioned already, the preprocessing steps you will need for your dataset depend on the nature of the dataset and models you want to train. Possible preprocessing steps are:\n",
        "\n",
        "* Rescaling attributes with different scales\n",
        "* Standardizing the dataset\n",
        "* Encoding categorial attributes with integer values\n",
        "* Handling missing data\n",
        "* Removing duplicated data points\n",
        "* Removing outliers/ handle noisy data\n",
        "* Discretize the data\n",
        "* Split the dataset into a training and test set"
      ],
      "metadata": {
        "id": "PgH3Y3ILEC_g"
      }
    },
    {
      "cell_type": "markdown",
      "source": [
        "I am pikcing up the Housing prices dataset Dataset which is available on kaggle [here ](https://www.kaggle.com/datasets/yasserh/housing-prices-dataset)\n",
        "\n",
        "When you go there and click the download button you'll get a piece of code which you can import to colab or jupyter notebook.\n",
        "\n",
        "Below code piece refers to the dataset."
      ],
      "metadata": {
        "id": "levG5SD3E0g2"
      }
    },
    {
      "cell_type": "code",
      "source": [
        "import kagglehub\n",
        "\n",
        "# Download latest version\n",
        "path = kagglehub.dataset_download(\"yasserh/housing-prices-dataset\")\n",
        "\n",
        "print(\"Path to dataset files:\", path)"
      ],
      "metadata": {
        "colab": {
          "base_uri": "https://localhost:8080/",
          "height": 0
        },
        "id": "2uNfn9UTFqFI",
        "outputId": "dad33cf3-b59c-4a06-d2ed-1092dfeaf015"
      },
      "execution_count": 4,
      "outputs": [
        {
          "output_type": "stream",
          "name": "stdout",
          "text": [
            "Path to dataset files: /root/.cache/kagglehub/datasets/yasserh/housing-prices-dataset/versions/1\n"
          ]
        }
      ]
    },
    {
      "cell_type": "markdown",
      "source": [
        "I hope you're here after bagging some knowledge on numpy, pandas, and matplotlib. If you want to refer Numpy, you can check my numpy basic notebooks [in my github](https://github.com/pranathi000/ML_libraries/tree/main/Numpy).\n",
        "\n",
        "\n",
        "\n"
      ],
      "metadata": {
        "id": "2FgtU8H0GOSk"
      }
    },
    {
      "cell_type": "code",
      "execution_count": 5,
      "metadata": {
        "id": "EEbRCzC6B2fw"
      },
      "outputs": [],
      "source": [
        "import pandas as pd\n",
        "import matplotlib.pyplot as plt\n",
        "import numpy as np"
      ]
    },
    {
      "cell_type": "markdown",
      "source": [
        "df is a dataframe here. in order to read csv files there read_csv in pandas is used.\n",
        "### Why path + ......?\n",
        "We are on the path of housing prices dataset. To access it you have to access Housing.csv. That's why we added .csv file to our previous path.\n",
        "### What is a dataframe?\n",
        "In machine learning, a DataFrame (df) is commonly used to store and manipulate training data where\n",
        "\n",
        "df.head() is used to print first 5 rows of data present in the dataset"
      ],
      "metadata": {
        "id": "CWSdAjxuGtNN"
      }
    },
    {
      "cell_type": "code",
      "source": [
        "\n",
        "# Read the CSV file from the downloaded path\n",
        "df = pd.read_csv(path + \"/Housing.csv\")  # Assuming the file is named Housing.csv\n",
        "\n",
        "# Display first 5 rows\n",
        "print(df.head())"
      ],
      "metadata": {
        "colab": {
          "base_uri": "https://localhost:8080/",
          "height": 0
        },
        "id": "g083Cc4uGvww",
        "outputId": "2983f5b5-ee11-439a-a5d6-4b42d9411e4f"
      },
      "execution_count": 6,
      "outputs": [
        {
          "output_type": "stream",
          "name": "stdout",
          "text": [
            "      price  area  bedrooms  bathrooms  stories mainroad guestroom basement  \\\n",
            "0  13300000  7420         4          2        3      yes        no       no   \n",
            "1  12250000  8960         4          4        4      yes        no       no   \n",
            "2  12250000  9960         3          2        2      yes        no      yes   \n",
            "3  12215000  7500         4          2        2      yes        no      yes   \n",
            "4  11410000  7420         4          1        2      yes       yes      yes   \n",
            "\n",
            "  hotwaterheating airconditioning  parking prefarea furnishingstatus  \n",
            "0              no             yes        2      yes        furnished  \n",
            "1              no             yes        3       no        furnished  \n",
            "2              no              no        2      yes   semi-furnished  \n",
            "3              no             yes        3      yes        furnished  \n",
            "4              no             yes        2       no        furnished  \n"
          ]
        }
      ]
    },
    {
      "cell_type": "markdown",
      "source": [
        "\n",
        "df.describe():\n",
        "\n",
        "Generates statistical summary of numerical columns\n",
        "Shows count, mean, std, min, 25%, 50%, 75%, max\n",
        "Helps identify data distribution and potential outliers"
      ],
      "metadata": {
        "id": "OoiRsss1ISP8"
      }
    },
    {
      "cell_type": "code",
      "source": [
        "df.describe()"
      ],
      "metadata": {
        "colab": {
          "base_uri": "https://localhost:8080/",
          "height": 300
        },
        "id": "hOPyYCglIy_x",
        "outputId": "a01cdc25-e14c-46f1-aaaa-90c6b1ca680d"
      },
      "execution_count": 7,
      "outputs": [
        {
          "output_type": "execute_result",
          "data": {
            "text/plain": [
              "              price          area    bedrooms   bathrooms     stories  \\\n",
              "count  5.450000e+02    545.000000  545.000000  545.000000  545.000000   \n",
              "mean   4.766729e+06   5150.541284    2.965138    1.286239    1.805505   \n",
              "std    1.870440e+06   2170.141023    0.738064    0.502470    0.867492   \n",
              "min    1.750000e+06   1650.000000    1.000000    1.000000    1.000000   \n",
              "25%    3.430000e+06   3600.000000    2.000000    1.000000    1.000000   \n",
              "50%    4.340000e+06   4600.000000    3.000000    1.000000    2.000000   \n",
              "75%    5.740000e+06   6360.000000    3.000000    2.000000    2.000000   \n",
              "max    1.330000e+07  16200.000000    6.000000    4.000000    4.000000   \n",
              "\n",
              "          parking  \n",
              "count  545.000000  \n",
              "mean     0.693578  \n",
              "std      0.861586  \n",
              "min      0.000000  \n",
              "25%      0.000000  \n",
              "50%      0.000000  \n",
              "75%      1.000000  \n",
              "max      3.000000  "
            ],
            "text/html": [
              "\n",
              "  <div id=\"df-ba24622d-82c5-436a-8048-01c22fe309fe\" class=\"colab-df-container\">\n",
              "    <div>\n",
              "<style scoped>\n",
              "    .dataframe tbody tr th:only-of-type {\n",
              "        vertical-align: middle;\n",
              "    }\n",
              "\n",
              "    .dataframe tbody tr th {\n",
              "        vertical-align: top;\n",
              "    }\n",
              "\n",
              "    .dataframe thead th {\n",
              "        text-align: right;\n",
              "    }\n",
              "</style>\n",
              "<table border=\"1\" class=\"dataframe\">\n",
              "  <thead>\n",
              "    <tr style=\"text-align: right;\">\n",
              "      <th></th>\n",
              "      <th>price</th>\n",
              "      <th>area</th>\n",
              "      <th>bedrooms</th>\n",
              "      <th>bathrooms</th>\n",
              "      <th>stories</th>\n",
              "      <th>parking</th>\n",
              "    </tr>\n",
              "  </thead>\n",
              "  <tbody>\n",
              "    <tr>\n",
              "      <th>count</th>\n",
              "      <td>5.450000e+02</td>\n",
              "      <td>545.000000</td>\n",
              "      <td>545.000000</td>\n",
              "      <td>545.000000</td>\n",
              "      <td>545.000000</td>\n",
              "      <td>545.000000</td>\n",
              "    </tr>\n",
              "    <tr>\n",
              "      <th>mean</th>\n",
              "      <td>4.766729e+06</td>\n",
              "      <td>5150.541284</td>\n",
              "      <td>2.965138</td>\n",
              "      <td>1.286239</td>\n",
              "      <td>1.805505</td>\n",
              "      <td>0.693578</td>\n",
              "    </tr>\n",
              "    <tr>\n",
              "      <th>std</th>\n",
              "      <td>1.870440e+06</td>\n",
              "      <td>2170.141023</td>\n",
              "      <td>0.738064</td>\n",
              "      <td>0.502470</td>\n",
              "      <td>0.867492</td>\n",
              "      <td>0.861586</td>\n",
              "    </tr>\n",
              "    <tr>\n",
              "      <th>min</th>\n",
              "      <td>1.750000e+06</td>\n",
              "      <td>1650.000000</td>\n",
              "      <td>1.000000</td>\n",
              "      <td>1.000000</td>\n",
              "      <td>1.000000</td>\n",
              "      <td>0.000000</td>\n",
              "    </tr>\n",
              "    <tr>\n",
              "      <th>25%</th>\n",
              "      <td>3.430000e+06</td>\n",
              "      <td>3600.000000</td>\n",
              "      <td>2.000000</td>\n",
              "      <td>1.000000</td>\n",
              "      <td>1.000000</td>\n",
              "      <td>0.000000</td>\n",
              "    </tr>\n",
              "    <tr>\n",
              "      <th>50%</th>\n",
              "      <td>4.340000e+06</td>\n",
              "      <td>4600.000000</td>\n",
              "      <td>3.000000</td>\n",
              "      <td>1.000000</td>\n",
              "      <td>2.000000</td>\n",
              "      <td>0.000000</td>\n",
              "    </tr>\n",
              "    <tr>\n",
              "      <th>75%</th>\n",
              "      <td>5.740000e+06</td>\n",
              "      <td>6360.000000</td>\n",
              "      <td>3.000000</td>\n",
              "      <td>2.000000</td>\n",
              "      <td>2.000000</td>\n",
              "      <td>1.000000</td>\n",
              "    </tr>\n",
              "    <tr>\n",
              "      <th>max</th>\n",
              "      <td>1.330000e+07</td>\n",
              "      <td>16200.000000</td>\n",
              "      <td>6.000000</td>\n",
              "      <td>4.000000</td>\n",
              "      <td>4.000000</td>\n",
              "      <td>3.000000</td>\n",
              "    </tr>\n",
              "  </tbody>\n",
              "</table>\n",
              "</div>\n",
              "    <div class=\"colab-df-buttons\">\n",
              "\n",
              "  <div class=\"colab-df-container\">\n",
              "    <button class=\"colab-df-convert\" onclick=\"convertToInteractive('df-ba24622d-82c5-436a-8048-01c22fe309fe')\"\n",
              "            title=\"Convert this dataframe to an interactive table.\"\n",
              "            style=\"display:none;\">\n",
              "\n",
              "  <svg xmlns=\"http://www.w3.org/2000/svg\" height=\"24px\" viewBox=\"0 -960 960 960\">\n",
              "    <path d=\"M120-120v-720h720v720H120Zm60-500h600v-160H180v160Zm220 220h160v-160H400v160Zm0 220h160v-160H400v160ZM180-400h160v-160H180v160Zm440 0h160v-160H620v160ZM180-180h160v-160H180v160Zm440 0h160v-160H620v160Z\"/>\n",
              "  </svg>\n",
              "    </button>\n",
              "\n",
              "  <style>\n",
              "    .colab-df-container {\n",
              "      display:flex;\n",
              "      gap: 12px;\n",
              "    }\n",
              "\n",
              "    .colab-df-convert {\n",
              "      background-color: #E8F0FE;\n",
              "      border: none;\n",
              "      border-radius: 50%;\n",
              "      cursor: pointer;\n",
              "      display: none;\n",
              "      fill: #1967D2;\n",
              "      height: 32px;\n",
              "      padding: 0 0 0 0;\n",
              "      width: 32px;\n",
              "    }\n",
              "\n",
              "    .colab-df-convert:hover {\n",
              "      background-color: #E2EBFA;\n",
              "      box-shadow: 0px 1px 2px rgba(60, 64, 67, 0.3), 0px 1px 3px 1px rgba(60, 64, 67, 0.15);\n",
              "      fill: #174EA6;\n",
              "    }\n",
              "\n",
              "    .colab-df-buttons div {\n",
              "      margin-bottom: 4px;\n",
              "    }\n",
              "\n",
              "    [theme=dark] .colab-df-convert {\n",
              "      background-color: #3B4455;\n",
              "      fill: #D2E3FC;\n",
              "    }\n",
              "\n",
              "    [theme=dark] .colab-df-convert:hover {\n",
              "      background-color: #434B5C;\n",
              "      box-shadow: 0px 1px 3px 1px rgba(0, 0, 0, 0.15);\n",
              "      filter: drop-shadow(0px 1px 2px rgba(0, 0, 0, 0.3));\n",
              "      fill: #FFFFFF;\n",
              "    }\n",
              "  </style>\n",
              "\n",
              "    <script>\n",
              "      const buttonEl =\n",
              "        document.querySelector('#df-ba24622d-82c5-436a-8048-01c22fe309fe button.colab-df-convert');\n",
              "      buttonEl.style.display =\n",
              "        google.colab.kernel.accessAllowed ? 'block' : 'none';\n",
              "\n",
              "      async function convertToInteractive(key) {\n",
              "        const element = document.querySelector('#df-ba24622d-82c5-436a-8048-01c22fe309fe');\n",
              "        const dataTable =\n",
              "          await google.colab.kernel.invokeFunction('convertToInteractive',\n",
              "                                                    [key], {});\n",
              "        if (!dataTable) return;\n",
              "\n",
              "        const docLinkHtml = 'Like what you see? Visit the ' +\n",
              "          '<a target=\"_blank\" href=https://colab.research.google.com/notebooks/data_table.ipynb>data table notebook</a>'\n",
              "          + ' to learn more about interactive tables.';\n",
              "        element.innerHTML = '';\n",
              "        dataTable['output_type'] = 'display_data';\n",
              "        await google.colab.output.renderOutput(dataTable, element);\n",
              "        const docLink = document.createElement('div');\n",
              "        docLink.innerHTML = docLinkHtml;\n",
              "        element.appendChild(docLink);\n",
              "      }\n",
              "    </script>\n",
              "  </div>\n",
              "\n",
              "\n",
              "<div id=\"df-66283c4e-a2b5-4f8b-8403-aad32d7aaacc\">\n",
              "  <button class=\"colab-df-quickchart\" onclick=\"quickchart('df-66283c4e-a2b5-4f8b-8403-aad32d7aaacc')\"\n",
              "            title=\"Suggest charts\"\n",
              "            style=\"display:none;\">\n",
              "\n",
              "<svg xmlns=\"http://www.w3.org/2000/svg\" height=\"24px\"viewBox=\"0 0 24 24\"\n",
              "     width=\"24px\">\n",
              "    <g>\n",
              "        <path d=\"M19 3H5c-1.1 0-2 .9-2 2v14c0 1.1.9 2 2 2h14c1.1 0 2-.9 2-2V5c0-1.1-.9-2-2-2zM9 17H7v-7h2v7zm4 0h-2V7h2v10zm4 0h-2v-4h2v4z\"/>\n",
              "    </g>\n",
              "</svg>\n",
              "  </button>\n",
              "\n",
              "<style>\n",
              "  .colab-df-quickchart {\n",
              "      --bg-color: #E8F0FE;\n",
              "      --fill-color: #1967D2;\n",
              "      --hover-bg-color: #E2EBFA;\n",
              "      --hover-fill-color: #174EA6;\n",
              "      --disabled-fill-color: #AAA;\n",
              "      --disabled-bg-color: #DDD;\n",
              "  }\n",
              "\n",
              "  [theme=dark] .colab-df-quickchart {\n",
              "      --bg-color: #3B4455;\n",
              "      --fill-color: #D2E3FC;\n",
              "      --hover-bg-color: #434B5C;\n",
              "      --hover-fill-color: #FFFFFF;\n",
              "      --disabled-bg-color: #3B4455;\n",
              "      --disabled-fill-color: #666;\n",
              "  }\n",
              "\n",
              "  .colab-df-quickchart {\n",
              "    background-color: var(--bg-color);\n",
              "    border: none;\n",
              "    border-radius: 50%;\n",
              "    cursor: pointer;\n",
              "    display: none;\n",
              "    fill: var(--fill-color);\n",
              "    height: 32px;\n",
              "    padding: 0;\n",
              "    width: 32px;\n",
              "  }\n",
              "\n",
              "  .colab-df-quickchart:hover {\n",
              "    background-color: var(--hover-bg-color);\n",
              "    box-shadow: 0 1px 2px rgba(60, 64, 67, 0.3), 0 1px 3px 1px rgba(60, 64, 67, 0.15);\n",
              "    fill: var(--button-hover-fill-color);\n",
              "  }\n",
              "\n",
              "  .colab-df-quickchart-complete:disabled,\n",
              "  .colab-df-quickchart-complete:disabled:hover {\n",
              "    background-color: var(--disabled-bg-color);\n",
              "    fill: var(--disabled-fill-color);\n",
              "    box-shadow: none;\n",
              "  }\n",
              "\n",
              "  .colab-df-spinner {\n",
              "    border: 2px solid var(--fill-color);\n",
              "    border-color: transparent;\n",
              "    border-bottom-color: var(--fill-color);\n",
              "    animation:\n",
              "      spin 1s steps(1) infinite;\n",
              "  }\n",
              "\n",
              "  @keyframes spin {\n",
              "    0% {\n",
              "      border-color: transparent;\n",
              "      border-bottom-color: var(--fill-color);\n",
              "      border-left-color: var(--fill-color);\n",
              "    }\n",
              "    20% {\n",
              "      border-color: transparent;\n",
              "      border-left-color: var(--fill-color);\n",
              "      border-top-color: var(--fill-color);\n",
              "    }\n",
              "    30% {\n",
              "      border-color: transparent;\n",
              "      border-left-color: var(--fill-color);\n",
              "      border-top-color: var(--fill-color);\n",
              "      border-right-color: var(--fill-color);\n",
              "    }\n",
              "    40% {\n",
              "      border-color: transparent;\n",
              "      border-right-color: var(--fill-color);\n",
              "      border-top-color: var(--fill-color);\n",
              "    }\n",
              "    60% {\n",
              "      border-color: transparent;\n",
              "      border-right-color: var(--fill-color);\n",
              "    }\n",
              "    80% {\n",
              "      border-color: transparent;\n",
              "      border-right-color: var(--fill-color);\n",
              "      border-bottom-color: var(--fill-color);\n",
              "    }\n",
              "    90% {\n",
              "      border-color: transparent;\n",
              "      border-bottom-color: var(--fill-color);\n",
              "    }\n",
              "  }\n",
              "</style>\n",
              "\n",
              "  <script>\n",
              "    async function quickchart(key) {\n",
              "      const quickchartButtonEl =\n",
              "        document.querySelector('#' + key + ' button');\n",
              "      quickchartButtonEl.disabled = true;  // To prevent multiple clicks.\n",
              "      quickchartButtonEl.classList.add('colab-df-spinner');\n",
              "      try {\n",
              "        const charts = await google.colab.kernel.invokeFunction(\n",
              "            'suggestCharts', [key], {});\n",
              "      } catch (error) {\n",
              "        console.error('Error during call to suggestCharts:', error);\n",
              "      }\n",
              "      quickchartButtonEl.classList.remove('colab-df-spinner');\n",
              "      quickchartButtonEl.classList.add('colab-df-quickchart-complete');\n",
              "    }\n",
              "    (() => {\n",
              "      let quickchartButtonEl =\n",
              "        document.querySelector('#df-66283c4e-a2b5-4f8b-8403-aad32d7aaacc button');\n",
              "      quickchartButtonEl.style.display =\n",
              "        google.colab.kernel.accessAllowed ? 'block' : 'none';\n",
              "    })();\n",
              "  </script>\n",
              "</div>\n",
              "\n",
              "    </div>\n",
              "  </div>\n"
            ],
            "application/vnd.google.colaboratory.intrinsic+json": {
              "type": "dataframe",
              "summary": "{\n  \"name\": \"df\",\n  \"rows\": 8,\n  \"fields\": [\n    {\n      \"column\": \"price\",\n      \"properties\": {\n        \"dtype\": \"number\",\n        \"std\": 4050766.5892287116,\n        \"min\": 545.0,\n        \"max\": 13300000.0,\n        \"num_unique_values\": 8,\n        \"samples\": [\n          4766729.247706422,\n          4340000.0,\n          545.0\n        ],\n        \"semantic_type\": \"\",\n        \"description\": \"\"\n      }\n    },\n    {\n      \"column\": \"area\",\n      \"properties\": {\n        \"dtype\": \"number\",\n        \"std\": 4906.2698868605785,\n        \"min\": 545.0,\n        \"max\": 16200.0,\n        \"num_unique_values\": 8,\n        \"samples\": [\n          5150.54128440367,\n          4600.0,\n          545.0\n        ],\n        \"semantic_type\": \"\",\n        \"description\": \"\"\n      }\n    },\n    {\n      \"column\": \"bedrooms\",\n      \"properties\": {\n        \"dtype\": \"number\",\n        \"std\": 191.74878444768592,\n        \"min\": 0.738063860568575,\n        \"max\": 545.0,\n        \"num_unique_values\": 7,\n        \"samples\": [\n          545.0,\n          2.9651376146788992,\n          3.0\n        ],\n        \"semantic_type\": \"\",\n        \"description\": \"\"\n      }\n    },\n    {\n      \"column\": \"bathrooms\",\n      \"properties\": {\n        \"dtype\": \"number\",\n        \"std\": 192.14476345868238,\n        \"min\": 0.502469616053218,\n        \"max\": 545.0,\n        \"num_unique_values\": 6,\n        \"samples\": [\n          545.0,\n          1.2862385321100918,\n          4.0\n        ],\n        \"semantic_type\": \"\",\n        \"description\": \"\"\n      }\n    },\n    {\n      \"column\": \"stories\",\n      \"properties\": {\n        \"dtype\": \"number\",\n        \"std\": 192.04914398408363,\n        \"min\": 0.8674924629255298,\n        \"max\": 545.0,\n        \"num_unique_values\": 6,\n        \"samples\": [\n          545.0,\n          1.8055045871559634,\n          4.0\n        ],\n        \"semantic_type\": \"\",\n        \"description\": \"\"\n      }\n    },\n    {\n      \"column\": \"parking\",\n      \"properties\": {\n        \"dtype\": \"number\",\n        \"std\": 192.40854964721382,\n        \"min\": 0.0,\n        \"max\": 545.0,\n        \"num_unique_values\": 6,\n        \"samples\": [\n          545.0,\n          0.6935779816513762,\n          3.0\n        ],\n        \"semantic_type\": \"\",\n        \"description\": \"\"\n      }\n    }\n  ]\n}"
            }
          },
          "metadata": {},
          "execution_count": 7
        }
      ]
    },
    {
      "cell_type": "markdown",
      "source": [
        "Notable patterns:\n",
        "\n",
        "Wide price range suggesting luxury market\n",
        "\n",
        "Most homes have 2-3 bedrooms\n",
        "\n",
        "Typically 1-2 bathrooms\n",
        "\n",
        "Many homes lack parking\n",
        "\n",
        "\n",
        "---\n",
        "\n"
      ],
      "metadata": {
        "id": "YEjUDHIHIzmH"
      }
    },
    {
      "cell_type": "markdown",
      "source": [
        "## Inspecting the Dataset\n",
        "df.info():\n",
        "\n",
        "Displays DataFrame information including:\n",
        "\n",
        "Total rows and columns\n",
        "\n",
        "Column names and data types\n",
        "\n",
        "Memory usage\n",
        "\n",
        "Non-null counts\n"
      ],
      "metadata": {
        "id": "IlJhVRttJLS-"
      }
    },
    {
      "cell_type": "code",
      "source": [
        "df.info()"
      ],
      "metadata": {
        "colab": {
          "base_uri": "https://localhost:8080/",
          "height": 0
        },
        "id": "2Fql7raTH65J",
        "outputId": "f1438346-058c-485c-8524-c4aa7c976c67"
      },
      "execution_count": 8,
      "outputs": [
        {
          "output_type": "stream",
          "name": "stdout",
          "text": [
            "<class 'pandas.core.frame.DataFrame'>\n",
            "RangeIndex: 545 entries, 0 to 544\n",
            "Data columns (total 13 columns):\n",
            " #   Column            Non-Null Count  Dtype \n",
            "---  ------            --------------  ----- \n",
            " 0   price             545 non-null    int64 \n",
            " 1   area              545 non-null    int64 \n",
            " 2   bedrooms          545 non-null    int64 \n",
            " 3   bathrooms         545 non-null    int64 \n",
            " 4   stories           545 non-null    int64 \n",
            " 5   mainroad          545 non-null    object\n",
            " 6   guestroom         545 non-null    object\n",
            " 7   basement          545 non-null    object\n",
            " 8   hotwaterheating   545 non-null    object\n",
            " 9   airconditioning   545 non-null    object\n",
            " 10  parking           545 non-null    int64 \n",
            " 11  prefarea          545 non-null    object\n",
            " 12  furnishingstatus  545 non-null    object\n",
            "dtypes: int64(6), object(7)\n",
            "memory usage: 55.5+ KB\n"
          ]
        }
      ]
    },
    {
      "cell_type": "markdown",
      "source": [
        "The dataset has:\n",
        "\n",
        "545 rows (houses)\n",
        "13 columns with no missing values\n",
        "6 numeric columns (price, area, bedrooms, bathrooms, stories, parking)\n",
        "7 categorical columns (mainroad, guestroom, basement, hotwaterheating, airconditioning, prefarea, furnishingstatus)\n",
        "Integer type for numeric columns\n",
        "Object type for categorical columns\n",
        "Uses ~55.5 KB memory\n",
        "\n",
        "This suggests a clean dataset without null values, requiring categorical encoding for the object columns before modeling.\n",
        "\n",
        "\n",
        "---\n",
        "\n"
      ],
      "metadata": {
        "id": "tIaOMwRZJMAE"
      }
    },
    {
      "cell_type": "markdown",
      "source": [
        "***df.hist(bins=100, figsize=(25, 20)):***\n",
        "\n",
        "Creates histograms for all numerical columns\n",
        "\n",
        "bins=100: Number of bars in histogram\n",
        "\n",
        "figsize=(25, 20): Size of the plot in inches\n",
        "\n",
        "Helps visualize data distribution for each feature\n",
        "\n",
        "These methods are essential for initial data exploration and understanding your dataset's characteristics."
      ],
      "metadata": {
        "id": "LAopSy3TJpTj"
      }
    },
    {
      "cell_type": "markdown",
      "source": [
        "## Visualizing aspects of the dataset\n",
        "Another way to get familiar with the dataset is to look at all numerical attributes and plot a histogram for each of them.\n",
        "\n",
        "\n",
        "\n",
        "> What is a histogram?\n",
        "A histogram is a graphical representation of data that uses bars of different heights. It groups data points into value ranges. The exact shape of the value ranges depends on the number of bars. With a lot of bars, value ranges will be small, with only a few bars they will be wider. The height of a bar (y-axis) represents the number of data points that fall into the corresponding value range (x-axis).\n",
        "\n",
        "\n",
        "\n"
      ],
      "metadata": {
        "id": "TmvoTR2YLWB1"
      }
    },
    {
      "cell_type": "code",
      "source": [
        "df.hist(bins=100, figsize=(25, 20))\n",
        "plt.show()"
      ],
      "metadata": {
        "colab": {
          "base_uri": "https://localhost:8080/",
          "height": 671
        },
        "id": "jtUNBtz1GwvQ",
        "outputId": "01e57745-7cd7-4a5b-c29c-432c8576f35b"
      },
      "execution_count": 9,
      "outputs": [
        {
          "output_type": "display_data",
          "data": {
            "text/plain": [
              "<Figure size 2500x2000 with 6 Axes>"
            ],
            "image/png": "[encoded data removed]"
          },
          "metadata": {}
        }
      ]
    },
    {
      "cell_type": "markdown",
      "source": [
        "Observe the histogrm carefully:\n",
        "* price and area are right skewed as they are left centered\n",
        "\n",
        "---\n"
      ],
      "metadata": {
        "id": "X_keM5nnKFqq"
      }
    },
    {
      "cell_type": "markdown",
      "source": [
        "## Removing duplicated data points"
      ],
      "metadata": {
        "id": "EieEys53Lqyd"
      }
    },
    {
      "cell_type": "markdown",
      "source": [
        "To make sure that none of the data point are duplicated and hence overrepresented, we can scan the dataset for duplicated entries and delete them. This becomes very easy with the DataFrame.drop_duplicates() function."
      ],
      "metadata": {
        "id": "X7Siu-w0Lzs2"
      }
    },
    {
      "cell_type": "code",
      "source": [
        "df.drop_duplicates(keep='first', inplace=True)\n"
      ],
      "metadata": {
        "id": "lPkzyapbKBZb"
      },
      "execution_count": 10,
      "outputs": []
    },
    {
      "cell_type": "markdown",
      "source": [
        "## Take a deep look"
      ],
      "metadata": {
        "id": "b42mG-w6MOrA"
      }
    },
    {
      "cell_type": "markdown",
      "source": [
        "We are just converting yes/no values into 0 or 1 since it's easy to handle the dataset with numbers rather than categorical ones.\n",
        "\n",
        "we are using a .map function to map 1 for yes and 0 for no."
      ],
      "metadata": {
        "id": "b9a4cN1pMdBL"
      }
    },
    {
      "cell_type": "code",
      "source": [
        "# These columns have only yes/no values\n",
        "binary_columns = ['mainroad', 'guestroom', 'basement', 'hotwaterheating',\n",
        "                 'airconditioning', 'prefarea']\n",
        "\n",
        "# Convert yes/no to 1/0\n",
        "for col in binary_columns:\n",
        "    df[col] = df[col].map({'yes': 1, 'no': 0})"
      ],
      "metadata": {
        "id": "UGWGMD9ZK9-e"
      },
      "execution_count": 11,
      "outputs": []
    },
    {
      "cell_type": "markdown",
      "source": [
        "This converts furnishing categories (like unfurnished, semi-furnished, furnished) to numbers (0, 1, 2).\n",
        "\n",
        "This encoding is necessary because machine learning models can't process text data directly."
      ],
      "metadata": {
        "id": "SENpZYUeM-6W"
      }
    },
    {
      "cell_type": "code",
      "source": [
        "df['furnishingstatus'] = pd.Categorical(df['furnishingstatus']).codes\n"
      ],
      "metadata": {
        "id": "otEcvn3hK6zy"
      },
      "execution_count": 12,
      "outputs": []
    },
    {
      "cell_type": "markdown",
      "source": [
        "## Gaining further insight\n",
        "To further improve our understanding of the dataset, we can add a few more exploration steps. Besides creating more plots, another useful thing is looking for correlations between the attributes.\n",
        "\n",
        "For example, we can compute Pearson's correlation coefficient. From the linked Wikipedia website:\n",
        "\n",
        "> Pearson's correlation coefficient is a measure of the linear correlation between two variables X and Y. It has a value between +1 and −1, where 1 is total positive linear correlation, 0 is no linear correlation, and −1 is total negative linear correlation.\n",
        "\n",
        "A 'total positive linear correlation' means that as X increases, Y increases. A 'total negative linear correlation' means that as X increases, Y decreases.\n",
        "\n",
        "> We can easily compute Pearson's correlation coefficient between every pair of attributes using DataFrame.corr(). In fact, DataFrame.corr() could also be used to compute the Kendall Tau correlation coefficient or Spearman rank correlation."
      ],
      "metadata": {
        "id": "6ibLMuJDNCqW"
      }
    },
    {
      "cell_type": "code",
      "source": [
        "correlation_matrix = df.corr(method='pearson')\n",
        "print(correlation_matrix)\n"
      ],
      "metadata": {
        "colab": {
          "base_uri": "https://localhost:8080/",
          "height": 0
        },
        "id": "pUSJTtbcNdBn",
        "outputId": "4c0f662b-4acd-4fae-ade1-cea11c4d6039"
      },
      "execution_count": 13,
      "outputs": [
        {
          "output_type": "stream",
          "name": "stdout",
          "text": [
            "                     price      area  bedrooms  bathrooms   stories  mainroad  \\\n",
            "price             1.000000  0.535997  0.366494   0.517545  0.420712  0.296898   \n",
            "area              0.535997  1.000000  0.151858   0.193820  0.083996  0.288874   \n",
            "bedrooms          0.366494  0.151858  1.000000   0.373930  0.408564 -0.012033   \n",
            "bathrooms         0.517545  0.193820  0.373930   1.000000  0.326165  0.042398   \n",
            "stories           0.420712  0.083996  0.408564   0.326165  1.000000  0.121706   \n",
            "mainroad          0.296898  0.288874 -0.012033   0.042398  0.121706  1.000000   \n",
            "guestroom         0.255517  0.140297  0.080549   0.126469  0.043538  0.092337   \n",
            "basement          0.187057  0.047417  0.097312   0.102106 -0.172394  0.044002   \n",
            "hotwaterheating   0.093073 -0.009229  0.046049   0.067159  0.018847 -0.011781   \n",
            "airconditioning   0.452954  0.222393  0.160603   0.186915  0.293602  0.105423   \n",
            "parking           0.384394  0.352980  0.139270   0.177496  0.045547  0.204433   \n",
            "prefarea          0.329777  0.234779  0.079023   0.063472  0.044425  0.199876   \n",
            "furnishingstatus -0.304721 -0.171445 -0.123244  -0.143559 -0.104672 -0.156726   \n",
            "\n",
            "                  guestroom  basement  hotwaterheating  airconditioning  \\\n",
            "price              0.255517  0.187057         0.093073         0.452954   \n",
            "area               0.140297  0.047417        -0.009229         0.222393   \n",
            "bedrooms           0.080549  0.097312         0.046049         0.160603   \n",
            "bathrooms          0.126469  0.102106         0.067159         0.186915   \n",
            "stories            0.043538 -0.172394         0.018847         0.293602   \n",
            "mainroad           0.092337  0.044002        -0.011781         0.105423   \n",
            "guestroom          1.000000  0.372066        -0.010308         0.138179   \n",
            "basement           0.372066  1.000000         0.004385         0.047341   \n",
            "hotwaterheating   -0.010308  0.004385         1.000000        -0.130023   \n",
            "airconditioning    0.138179  0.047341        -0.130023         1.000000   \n",
            "parking            0.037466  0.051497         0.067864         0.159173   \n",
            "prefarea           0.160897  0.228083        -0.059411         0.117382   \n",
            "furnishingstatus  -0.118328 -0.112831        -0.031628        -0.150477   \n",
            "\n",
            "                   parking  prefarea  furnishingstatus  \n",
            "price             0.384394  0.329777         -0.304721  \n",
            "area              0.352980  0.234779         -0.171445  \n",
            "bedrooms          0.139270  0.079023         -0.123244  \n",
            "bathrooms         0.177496  0.063472         -0.143559  \n",
            "stories           0.045547  0.044425         -0.104672  \n",
            "mainroad          0.204433  0.199876         -0.156726  \n",
            "guestroom         0.037466  0.160897         -0.118328  \n",
            "basement          0.051497  0.228083         -0.112831  \n",
            "hotwaterheating   0.067864 -0.059411         -0.031628  \n",
            "airconditioning   0.159173  0.117382         -0.150477  \n",
            "parking           1.000000  0.091627         -0.177539  \n",
            "prefarea          0.091627  1.000000         -0.107686  \n",
            "furnishingstatus -0.177539 -0.107686          1.000000  \n"
          ]
        }
      ]
    },
    {
      "cell_type": "code",
      "source": [
        "print(correlation_matrix[\"price\"].sort_values())\n"
      ],
      "metadata": {
        "colab": {
          "base_uri": "https://localhost:8080/",
          "height": 0
        },
        "id": "rV_Coz3mNgB2",
        "outputId": "21bf7e7f-d016-4d92-ae8c-e79a4f81d0dd"
      },
      "execution_count": 14,
      "outputs": [
        {
          "output_type": "stream",
          "name": "stdout",
          "text": [
            "furnishingstatus   -0.304721\n",
            "hotwaterheating     0.093073\n",
            "basement            0.187057\n",
            "guestroom           0.255517\n",
            "mainroad            0.296898\n",
            "prefarea            0.329777\n",
            "bedrooms            0.366494\n",
            "parking             0.384394\n",
            "stories             0.420712\n",
            "airconditioning     0.452954\n",
            "bathrooms           0.517545\n",
            "area                0.535997\n",
            "price               1.000000\n",
            "Name: price, dtype: float64\n"
          ]
        }
      ]
    },
    {
      "cell_type": "markdown",
      "source": [
        "The highest correlation exists for the attribute \"area\" and \"bathrooms\". However, it's important that we keep in mind that Pearson's only measures linear correlations. Nonlinear correlations are not measured and might still exist!\n",
        "\n",
        "---\n",
        "\n"
      ],
      "metadata": {
        "id": "q3KJG0CMN1lw"
      }
    },
    {
      "cell_type": "markdown",
      "source": [],
      "metadata": {
        "id": "9OqShuAQOJws"
      }
    },
    {
      "cell_type": "code",
      "source": [
        "# Log transform price and area\n",
        "df['price'] = np.log(df['price'])\n",
        "df['area'] = np.log(df['area'])\n",
        "\n",
        "# Check transformed distributions\n",
        "df[['price', 'area']].hist(bins=50)\n",
        "plt.show()"
      ],
      "metadata": {
        "colab": {
          "base_uri": "https://localhost:8080/",
          "height": 452
        },
        "id": "mG20iKPgPaNP",
        "outputId": "fbea315a-eb11-4121-d405-30cf4eea9220"
      },
      "execution_count": 15,
      "outputs": [
        {
          "output_type": "display_data",
          "data": {
            "text/plain": [
              "<Figure size 640x480 with 2 Axes>"
            ],
            "image/png": "[encoded data removed]"
          },
          "metadata": {}
        }
      ]
    },
    {
      "cell_type": "markdown",
      "source": [
        "The log transformation is used because:\n",
        "\n",
        "1. It reduces skewness in price and area distributions\n",
        "2. Makes extreme values less influential\n",
        "3. Helps normalize the data for better model performance\n",
        "4. Converts multiplicative relationships to additive ones\n",
        "\n",
        "The histogram after transformation should show more symmetric, bell-shaped distributions compared to the original right-skewed data."
      ],
      "metadata": {
        "id": "WaBa5w0rQZuK"
      }
    },
    {
      "cell_type": "code",
      "source": [
        "# Check missing values\n",
        "print(df.isnull().sum())\n",
        "\n",
        "# Fill missing values using recommended method\n",
        "df = df.fillna({\n",
        "    'bathrooms': df['bathrooms'].median(),\n",
        "    'stories': df['stories'].median(),\n",
        "    'parking': df['parking'].median()\n",
        "})\n",
        "\n",
        "# Verify after filling\n",
        "print(\"\\nMissing values after filling:\")\n",
        "print(df.isnull().sum())\n",
        "\n",
        "# Plot distributions\n",
        "df[['bathrooms', 'stories', 'parking']].hist(bins=50, figsize=(12,4))\n",
        "plt.show()"
      ],
      "metadata": {
        "colab": {
          "base_uri": "https://localhost:8080/",
          "height": 845
        },
        "id": "_QGeqKlhPak3",
        "outputId": "779ea49b-3899-4708-9230-cc3d4391559f"
      },
      "execution_count": 16,
      "outputs": [
        {
          "output_type": "stream",
          "name": "stdout",
          "text": [
            "price               0\n",
            "area                0\n",
            "bedrooms            0\n",
            "bathrooms           0\n",
            "stories             0\n",
            "mainroad            0\n",
            "guestroom           0\n",
            "basement            0\n",
            "hotwaterheating     0\n",
            "airconditioning     0\n",
            "parking             0\n",
            "prefarea            0\n",
            "furnishingstatus    0\n",
            "dtype: int64\n",
            "\n",
            "Missing values after filling:\n",
            "price               0\n",
            "area                0\n",
            "bedrooms            0\n",
            "bathrooms           0\n",
            "stories             0\n",
            "mainroad            0\n",
            "guestroom           0\n",
            "basement            0\n",
            "hotwaterheating     0\n",
            "airconditioning     0\n",
            "parking             0\n",
            "prefarea            0\n",
            "furnishingstatus    0\n",
            "dtype: int64\n"
          ]
        },
        {
          "output_type": "display_data",
          "data": {
            "text/plain": [
              "<Figure size 1200x400 with 4 Axes>"
            ],
            "image/png": "[encoded data removed]"
          },
          "metadata": {}
        }
      ]
    },
    {
      "cell_type": "markdown",
      "source": [
        "From the output:\n",
        "\n",
        "There are no missing values in the dataset (all columns show 0)\n"
      ],
      "metadata": {
        "id": "Q3qbD4pnQm1X"
      }
    },
    {
      "cell_type": "markdown",
      "source": [
        "np.random.seed(42):\n",
        "\n",
        "\n",
        "* Sets random number generator for reproducibility\n",
        "* 42 is arbitrary, any number works but we mostly use 42.\n",
        "* Ensures same random splits each time code runs\n",
        "\n",
        "\n",
        "Splitting data:\n",
        "\n",
        "\n",
        "* Essential for model evaluation\n",
        "* Train set (80%): Model learning\n",
        "* Test set (20%): Unbiased performance evaluation\n",
        "---\n",
        "In our dataset, we have both features (input variables) and prices (output/target variable). For prediction:\n",
        "\n",
        "* Features (X): Remove price column since it's what we want to predict\n",
        "* Target (y): Contains only price column to train the model and evaluate its predictions\n",
        "\n",
        "* The model learns how input features (X) relate to actual prices (y) during training, then uses those features to predict new house prices."
      ],
      "metadata": {
        "id": "_yYPna4rQ90W"
      }
    },
    {
      "cell_type": "markdown",
      "source": [
        "---\n",
        "---\n",
        "## Handling noisy data and outliers\n",
        "> It might happen that some entries of our dataset are noisy or that the dataset contains outliers. For example, the blood pressure of some person might be extremely high if they suffer from hypertension. Outliers might also represent erroneous values. For example, the age attribute should lie below 120.\n",
        "\n",
        "> Outliers can be detected in different ways. For the age attribute we could simply check the statistics given by df.describe() and check if the min and max values are reasonable. The same holds for other attributes. If you know in which range the attribute values should lie, you can quickly test if the dataset values are within that range.\n",
        "\n",
        " Once you detect outliers you can decide how you want to deal with them. For example, you could remove them.\n",
        "\n",
        " ---\n",
        " ---"
      ],
      "metadata": {
        "id": "2Hw2X-ngXTzA"
      }
    },
    {
      "cell_type": "code",
      "source": [
        "# Split data\n",
        "from sklearn.model_selection import train_test_split # Importing the train_test_split function from the sklearn.model_selection module\n",
        "X = df.drop('price', axis=1)\n",
        "y = df['price']\n",
        "np.random.seed(42)\n",
        "X_train, X_test, y_train, y_test = train_test_split(X, y, test_size=0.2, random_state=42)"
      ],
      "metadata": {
        "id": "UM2JXF7kPpPl"
      },
      "execution_count": 17,
      "outputs": []
    },
    {
      "cell_type": "markdown",
      "source": [
        "## One hot encoding\n",
        "get_dummies creates separate columns for each category:\n",
        "\n",
        "This is called one-hot encoding - each category gets its own column with 0/1 values. Better for machine learning than simple numeric encoding.\n",
        "\n",
        "House1: 'furnished'\n",
        "\n",
        "House2: 'unfurnished'\n",
        "\n",
        "House3: 'semi-furnished'\n",
        "\n",
        "After get_dummies:\n",
        "\n",
        "pythonCopy# Creates 3 separate columns\n",
        "\n",
        ">   furnishingstatus_furnished: [1, 0, 0]\n",
        "\n",
        "> furnishingstatus_unfurnished: [0, 1, 0]\n",
        "\n",
        "> furnishingstatus_semifurnished: [0, 0, 1]\n",
        "\n",
        "Each house has exactly one '1' and rest '0's\n",
        "\n",
        "Models can understand category differences better\n"
      ],
      "metadata": {
        "id": "3Dds-FE_SIvs"
      }
    },
    {
      "cell_type": "code",
      "source": [
        "# Preprocess categorical features\n",
        "binary_cols = ['mainroad', 'guestroom', 'basement', 'hotwaterheating',\n",
        "               'airconditioning', 'prefarea']\n",
        "X_train = pd.get_dummies(X_train, columns=binary_cols + ['furnishingstatus'])\n",
        "X_test = pd.get_dummies(X_test, columns=binary_cols + ['furnishingstatus'])"
      ],
      "metadata": {
        "id": "r01Bo3vlRtsh"
      },
      "execution_count": 18,
      "outputs": []
    },
    {
      "cell_type": "markdown",
      "source": [
        "## Standardizing attributes\n",
        "Several algorithms are sensitive to the scale of numerical attributes and won't perform well if the attributes have very different scales.\n",
        "\n",
        "* A classical example is the k-nearest-neighbor algorithm. When having an attribute \"age\" that ranges from 0 to 100 and an attribute \"income\" that ranges from 1 to 1.000.000, the attribute with the larger range will have a higher influence on the result.\n",
        "\n",
        "* Therefore, whenever having attributes with different scales, make sure to rescale them. Two standard ways of rescaling are min-max scaling and standardization.\n",
        "---\n",
        "\n",
        "StandardScaler:\n",
        "\n",
        "1. Centers data around 0 (subtracts mean)\n",
        "\n",
        "2. Scales to unit variance (divides by std)\n",
        "\n",
        "3. Only fit on training data to prevent data leakage\n",
        "\n",
        "4. Same scaling applied to test data\n",
        "\n",
        "Purpose: Makes features comparable in scale for better model performance.\n",
        "\n",
        "\n"
      ],
      "metadata": {
        "id": "BglZLevFU2tN"
      }
    },
    {
      "cell_type": "code",
      "source": [
        "# Create scaler object\n",
        "from sklearn.preprocessing import StandardScaler # Import StandardScaler from sklearn.preprocessing\n",
        "scaler = StandardScaler()\n",
        "\n",
        "# List numeric columns to scale\n",
        "numeric_cols = ['area', 'bedrooms', 'bathrooms', 'stories', 'parking']\n",
        "\n",
        "# Fit and transform training data\n",
        "X_train[numeric_cols] = scaler.fit_transform(X_train[numeric_cols])\n",
        "\n",
        "# Transform test data using same scaling\n",
        "X_test[numeric_cols] = scaler.transform(X_test[numeric_cols])"
      ],
      "metadata": {
        "id": "X23cMqGOTx1X"
      },
      "execution_count": 19,
      "outputs": []
    },
    {
      "cell_type": "code",
      "source": [
        "y_train = np.log1p(y_train)\n",
        "y_test = np.log1p(y_test)"
      ],
      "metadata": {
        "id": "R27RoVK1UFUr"
      },
      "execution_count": 20,
      "outputs": []
    },
    {
      "cell_type": "markdown",
      "source": [
        "\n",
        "1. Why transform prices?\n",
        "- House prices often have very large ranges (e.g., $100k to $10M)\n",
        "- This wide range can make it hard for models to predict accurately\n",
        "\n",
        "2. Why log1p?\n",
        "```python\n",
        "y_train = np.log1p(y_train)  # log(1 + x)\n",
        "y_test = np.log1p(y_test)\n",
        "```\n",
        "- Compresses large values\n",
        "- Makes price distribution more normal\n",
        "- log1p adds 1 before taking log (handles zero values)\n",
        "- Makes model predictions more stable\n",
        "\n",
        "Example:\n",
        "Original prices: [100000, 1000000, 10000000]\n",
        "After log1p: [11.51, 13.82, 16.12]\n",
        "- Smaller range, easier for model to handle"
      ],
      "metadata": {
        "id": "JsK6-9APVMWG"
      }
    },
    {
      "cell_type": "code",
      "source": [
        "# Calculate absolute correlation with price\n",
        "corr_with_price = abs(X_train.corrwith(y_train))\n",
        "\n",
        "# Select features with correlation > 0.1\n",
        "selected_features = corr_with_price[corr_with_price > 0.1].index\n",
        "\n",
        "# Keep only selected features\n",
        "X_train = X_train[selected_features]\n",
        "X_test = X_test[selected_features]"
      ],
      "metadata": {
        "id": "35gDPwQCUXWH"
      },
      "execution_count": 21,
      "outputs": []
    },
    {
      "cell_type": "markdown",
      "source": [
        "This code selects important features based on their correlation with price:\n",
        "\n",
        "Purpose:\n",
        "- Removes less relevant features\n",
        "- Keeps features strongly correlated with price\n",
        "- Reduces model complexity\n",
        "- Can improve model performance by focusing on important predictors"
      ],
      "metadata": {
        "id": "3gOrmntLVgfn"
      }
    },
    {
      "cell_type": "code",
      "source": [
        "import scipy.stats as stats  # Import the stats module from scipy\n",
        "\n",
        "# Check final number of features after selection\n",
        "print(\"Final X shape:\", X_train.shape)  # Shows (rows, selected_features)\n",
        "\n",
        "# Check if price distribution is normal after log transform\n",
        "print(\"Skewness of price:\", stats.skew(y_train))  # Closer to 0 means more normal"
      ],
      "metadata": {
        "colab": {
          "base_uri": "https://localhost:8080/",
          "height": 0
        },
        "id": "lykT0LoZVVtC",
        "outputId": "73c7a001-146a-4423-9389-80feeb194351"
      },
      "execution_count": 22,
      "outputs": [
        {
          "output_type": "stream",
          "name": "stdout",
          "text": [
            "Final X shape: (436, 18)\n",
            "Skewness of price: 0.1163020532075822\n"
          ]
        }
      ]
    },
    {
      "cell_type": "markdown",
      "source": [
        "The skewness value of 0.11....... is good because:\n",
        "- Perfect normal distribution has skewness = 0\n",
        "- |skewness| < 0.5 is considered approximately normal\n",
        "- |skewness| > 1 indicates significant skewness\n",
        "\n",
        "Your 0.11 value means the price distribution is nearly normal after transformation, which is ideal for modeling.\n",
        "\n",
        "Shape (436, 18) means:\n",
        "- 436 training samples\n",
        "- 18 features selected (correlation > 0.1)\n",
        "This is a reasonable size for housing price prediction."
      ],
      "metadata": {
        "id": "pE_8INHrWTvJ"
      }
    },
    {
      "cell_type": "code",
      "source": [
        "m = X_train.shape[0]  # Gets number of rows (training examples)\n",
        "print(f\"Number of training examples is: {m}\")  # Prints count of training data"
      ],
      "metadata": {
        "colab": {
          "base_uri": "https://localhost:8080/",
          "height": 0
        },
        "id": "U08V4uULVslk",
        "outputId": "da100fd9-7179-4193-e7fe-82e662ccf77e"
      },
      "execution_count": 23,
      "outputs": [
        {
          "output_type": "stream",
          "name": "stdout",
          "text": [
            "Number of training examples is: 436\n"
          ]
        }
      ]
    },
    {
      "cell_type": "markdown",
      "source": [
        "\n",
        "Shape (436, 18) means:\n",
        "- m = 436 training examples\n",
        "- 18 features per example\n",
        "\n",
        "This helps verify data splitting worked correctly and you have sufficient training data."
      ],
      "metadata": {
        "id": "GDP7fGr6Wth8"
      }
    }
  ]
}
